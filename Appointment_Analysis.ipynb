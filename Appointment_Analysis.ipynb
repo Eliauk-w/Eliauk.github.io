{
 "cells": [
  {
   "cell_type": "markdown",
   "metadata": {
    "collapsed": true
   },
   "source": [
    "# Predicting Medical Appointment No-shows"
   ]
  },
  {
   "cell_type": "markdown",
   "metadata": {
    "collapsed": true
   },
   "source": [
    "<img src='https://www.questionpro.com/blog/wp-content/uploads/2015/07/preguntas_y_respuestas_2.jpg'>"
   ]
  },
  {
   "cell_type": "markdown",
   "metadata": {
    "collapsed": true
   },
   "source": [
    "### A person makes a doctor appointment, receives all the instructions and no-show. Who to blame?\n",
    "\n",
    "— Why do 30% of patients miss their scheduled appointments?\n",
    "\n",
    "110k medical appointments with its 14 variables (characteristics). Variable names are self-explanatory.\n",
    "\n",
    "Dataset from: https://www.kaggle.com/joniarroba/noshowappointments"
   ]
  },
  {
   "cell_type": "markdown",
   "metadata": {
    "collapsed": true
   },
   "source": [
    "### Data Dictionary\n",
    "- PatientId - Identification of a patient \n",
    "- AppointmentID - Identification of each appointment \n",
    "- Gender = Male or Female, female is the greater proportion, woman takes way more care of they health in comparison to man\n",
    "- ScheduledDay = The day someone called or registered the appointment, this is before appointment of course\n",
    "- AppointmentDay = The day of the actuall appointment, when they have to visit the doctor\n",
    "- Age = How old is the patient\n",
    "- Neighbourhood = Where the appointment takes place, means the place where the hospital is located and not where the patient lives\n",
    "- Scholarship = Ture of False\n",
    "- Hipertension = True or False \n",
    "- Diabetes = True or False \n",
    "- Alcoholism = True or False \n",
    "- Handcap = True or False\n",
    "- SMS_received = If received the messages sent to the patient\n",
    "- No-show = True or False"
   ]
  },
  {
   "cell_type": "code",
   "execution_count": 3,
   "metadata": {},
   "outputs": [
    {
     "data": {
      "text/html": [
       "<div>\n",
       "<style scoped>\n",
       "    .dataframe tbody tr th:only-of-type {\n",
       "        vertical-align: middle;\n",
       "    }\n",
       "\n",
       "    .dataframe tbody tr th {\n",
       "        vertical-align: top;\n",
       "    }\n",
       "\n",
       "    .dataframe thead th {\n",
       "        text-align: right;\n",
       "    }\n",
       "</style>\n",
       "<table border=\"1\" class=\"dataframe\">\n",
       "  <thead>\n",
       "    <tr style=\"text-align: right;\">\n",
       "      <th></th>\n",
       "      <th>PatientId</th>\n",
       "      <th>AppointmentID</th>\n",
       "      <th>Gender</th>\n",
       "      <th>ScheduledDay</th>\n",
       "      <th>AppointmentDay</th>\n",
       "      <th>Age</th>\n",
       "      <th>Neighbourhood</th>\n",
       "      <th>Scholarship</th>\n",
       "      <th>Hipertension</th>\n",
       "      <th>Diabetes</th>\n",
       "      <th>Alcoholism</th>\n",
       "      <th>Handcap</th>\n",
       "      <th>SMS_received</th>\n",
       "      <th>No-show</th>\n",
       "    </tr>\n",
       "  </thead>\n",
       "  <tbody>\n",
       "    <tr>\n",
       "      <th>0</th>\n",
       "      <td>29872499824296</td>\n",
       "      <td>5642903</td>\n",
       "      <td>F</td>\n",
       "      <td>2016-04-29T18:38:08Z</td>\n",
       "      <td>2016-04-29T00:00:00Z</td>\n",
       "      <td>62</td>\n",
       "      <td>JARDIM DA PENHA</td>\n",
       "      <td>0</td>\n",
       "      <td>1</td>\n",
       "      <td>0</td>\n",
       "      <td>0</td>\n",
       "      <td>0</td>\n",
       "      <td>0</td>\n",
       "      <td>No</td>\n",
       "    </tr>\n",
       "    <tr>\n",
       "      <th>1</th>\n",
       "      <td>558997776694438</td>\n",
       "      <td>5642503</td>\n",
       "      <td>M</td>\n",
       "      <td>2016-04-29T16:08:27Z</td>\n",
       "      <td>2016-04-29T00:00:00Z</td>\n",
       "      <td>56</td>\n",
       "      <td>JARDIM DA PENHA</td>\n",
       "      <td>0</td>\n",
       "      <td>0</td>\n",
       "      <td>0</td>\n",
       "      <td>0</td>\n",
       "      <td>0</td>\n",
       "      <td>0</td>\n",
       "      <td>No</td>\n",
       "    </tr>\n",
       "    <tr>\n",
       "      <th>2</th>\n",
       "      <td>4262962299951</td>\n",
       "      <td>5642549</td>\n",
       "      <td>F</td>\n",
       "      <td>2016-04-29T16:19:04Z</td>\n",
       "      <td>2016-04-29T00:00:00Z</td>\n",
       "      <td>62</td>\n",
       "      <td>MATA DA PRAIA</td>\n",
       "      <td>0</td>\n",
       "      <td>0</td>\n",
       "      <td>0</td>\n",
       "      <td>0</td>\n",
       "      <td>0</td>\n",
       "      <td>0</td>\n",
       "      <td>No</td>\n",
       "    </tr>\n",
       "    <tr>\n",
       "      <th>3</th>\n",
       "      <td>867951213174</td>\n",
       "      <td>5642828</td>\n",
       "      <td>F</td>\n",
       "      <td>2016-04-29T17:29:31Z</td>\n",
       "      <td>2016-04-29T00:00:00Z</td>\n",
       "      <td>8</td>\n",
       "      <td>PONTAL DE CAMBURI</td>\n",
       "      <td>0</td>\n",
       "      <td>0</td>\n",
       "      <td>0</td>\n",
       "      <td>0</td>\n",
       "      <td>0</td>\n",
       "      <td>0</td>\n",
       "      <td>No</td>\n",
       "    </tr>\n",
       "    <tr>\n",
       "      <th>4</th>\n",
       "      <td>8841186448183</td>\n",
       "      <td>5642494</td>\n",
       "      <td>F</td>\n",
       "      <td>2016-04-29T16:07:23Z</td>\n",
       "      <td>2016-04-29T00:00:00Z</td>\n",
       "      <td>56</td>\n",
       "      <td>JARDIM DA PENHA</td>\n",
       "      <td>0</td>\n",
       "      <td>1</td>\n",
       "      <td>1</td>\n",
       "      <td>0</td>\n",
       "      <td>0</td>\n",
       "      <td>0</td>\n",
       "      <td>No</td>\n",
       "    </tr>\n",
       "  </tbody>\n",
       "</table>\n",
       "</div>"
      ],
      "text/plain": [
       "         PatientId  AppointmentID Gender          ScheduledDay  \\\n",
       "0   29872499824296        5642903      F  2016-04-29T18:38:08Z   \n",
       "1  558997776694438        5642503      M  2016-04-29T16:08:27Z   \n",
       "2    4262962299951        5642549      F  2016-04-29T16:19:04Z   \n",
       "3     867951213174        5642828      F  2016-04-29T17:29:31Z   \n",
       "4    8841186448183        5642494      F  2016-04-29T16:07:23Z   \n",
       "\n",
       "         AppointmentDay  Age      Neighbourhood  Scholarship  Hipertension  \\\n",
       "0  2016-04-29T00:00:00Z   62    JARDIM DA PENHA            0             1   \n",
       "1  2016-04-29T00:00:00Z   56    JARDIM DA PENHA            0             0   \n",
       "2  2016-04-29T00:00:00Z   62      MATA DA PRAIA            0             0   \n",
       "3  2016-04-29T00:00:00Z    8  PONTAL DE CAMBURI            0             0   \n",
       "4  2016-04-29T00:00:00Z   56    JARDIM DA PENHA            0             1   \n",
       "\n",
       "   Diabetes  Alcoholism  Handcap  SMS_received No-show  \n",
       "0         0           0        0             0      No  \n",
       "1         0           0        0             0      No  \n",
       "2         0           0        0             0      No  \n",
       "3         0           0        0             0      No  \n",
       "4         1           0        0             0      No  "
      ]
     },
     "execution_count": 3,
     "metadata": {},
     "output_type": "execute_result"
    }
   ],
   "source": [
    "# load data set\n",
    "import pandas as pd\n",
    "data = pd.read_csv('Appointment_data.csv')\n",
    "data.head()"
   ]
  },
  {
   "cell_type": "markdown",
   "metadata": {},
   "source": [
    "### Table of Contents"
   ]
  },
  {
   "cell_type": "markdown",
   "metadata": {
    "collapsed": true
   },
   "source": [
    "[1. Load Data Set and Python Packages](#ML1)\n",
    " - [Load Python Packages](#ML1-1)\n",
    " - [Load and Display Data Set](#ML1-2)\n",
    " \n",
    "[2. Data Quality Assessment](#ML2)\n",
    " - [Check Missing Values](#ML2-1)\n",
    " - [Check Duplicated Values](#ML2-2)\n",
    " - [Check Category Variables](#ML2-3)\n",
    " - [Check Numerical Variables](#ML2-4)\n",
    "\n",
    "[3. Exploratory Data Analysis and Feature Selection](#ML3)\n",
    " - [Exploring on \"ScheduledDay\" and \"AppointmentDay\"](#ML3-1)\n",
    " - [Exploring on Given Binary Dummy Variables](#ML3-2)\n",
    " - [Exploring on \"Neighbourhood\"](#ML3-3)\n",
    " - [Exploring on \"Age\"](#ML3-4)\n",
    " - [Exploring on \"Gender\"](#ML3-5)\n",
    " - [Exploring on \"PatientId\"](#ML3-6)\n",
    " \n",
    "[4. Building Models on Imbalanced Data](#ML4)\n",
    " - [Transforming the Data Set](#ML4-1)\n",
    " - [Define Feature Matrix and Target Array](#ML4-2)\n",
    " - [Prepare Data for Model Training](#ML4-3)\n",
    " - [Train Model - Logistic Regression](#ML4-4)\n",
    "\n",
    "[5. Building Models on Balanced Data](#ML5)\n",
    " - [Create Balanced Data Set](#ML5-1)\n",
    " - [Prepare Data for Model Training](#ML5-2)\n",
    " - [Logistic Regression](#ML5-3)\n",
    " - [Random Forest Classifier](#ML5-4)\n",
    " - [K-Nearest Neighbors Classifier](#ML5-5)\n",
    " \n",
    "[6. Conclusion](#6)\n",
    " - [Result Summary](#6-1)\n",
    " - [Features Importance](#6-2)"
   ]
  },
  {
   "cell_type": "markdown",
   "metadata": {
    "collapsed": true
   },
   "source": [
    "### 1. Load Data Set and Python Packages<a id=\"ML1\"></a>"
   ]
  },
  {
   "cell_type": "markdown",
   "metadata": {
    "collapsed": true
   },
   "source": [
    "#### Load Python Packages<a id=\"ML1-1\"></a>"
   ]
  },
  {
   "cell_type": "code",
   "execution_count": 1,
   "metadata": {},
   "outputs": [],
   "source": [
    "# Data manipulation\n",
    "import random\n",
    "import numpy as np\n",
    "import pandas as pd\n",
    "from datetime import datetime\n",
    "\n",
    "# Data visualization\n",
    "import matplotlib.pyplot as plt\n",
    "import seaborn as sns; sns.set_style(\"whitegrid\")\n",
    "\n",
    "# Data preprocessing and model evaluation\n",
    "from sklearn import preprocessing\n",
    "from sklearn.model_selection import GridSearchCV\n",
    "from sklearn.metrics import precision_recall_curve, average_precision_score\n",
    "from sklearn.metrics import accuracy_score, f1_score, confusion_matrix, precision_score, recall_score\n",
    "from sklearn.model_selection import train_test_split\n",
    "from sklearn.model_selection import cross_val_score\n",
    "\n",
    "# Machine learning models\n",
    "from sklearn.tree import DecisionTreeClassifier\n",
    "from sklearn.neighbors import KNeighborsClassifier\n",
    "from sklearn.linear_model import LogisticRegression\n",
    "from sklearn.ensemble import RandomForestClassifier\n",
    "\n",
    "# warnings ignore\n",
    "import warnings\n",
    "warnings.filterwarnings('ignore')"
   ]
  },
  {
   "cell_type": "markdown",
   "metadata": {},
   "source": [
    "#### Load and Display Data Set<a id=\"ML1-2\"></a>"
   ]
  },
  {
   "cell_type": "code",
   "execution_count": 2,
   "metadata": {},
   "outputs": [],
   "source": [
    "# load data set\n",
    "data = pd.read_csv('Appointment_data.csv')"
   ]
  },
  {
   "cell_type": "code",
   "execution_count": 85,
   "metadata": {},
   "outputs": [
    {
     "data": {
      "text/html": [
       "<div>\n",
       "<style scoped>\n",
       "    .dataframe tbody tr th:only-of-type {\n",
       "        vertical-align: middle;\n",
       "    }\n",
       "\n",
       "    .dataframe tbody tr th {\n",
       "        vertical-align: top;\n",
       "    }\n",
       "\n",
       "    .dataframe thead th {\n",
       "        text-align: right;\n",
       "    }\n",
       "</style>\n",
       "<table border=\"1\" class=\"dataframe\">\n",
       "  <thead>\n",
       "    <tr style=\"text-align: right;\">\n",
       "      <th></th>\n",
       "      <th>PatientId</th>\n",
       "      <th>AppointmentID</th>\n",
       "      <th>Gender</th>\n",
       "      <th>ScheduledDay</th>\n",
       "      <th>AppointmentDay</th>\n",
       "      <th>Age</th>\n",
       "      <th>Neighbourhood</th>\n",
       "      <th>Scholarship</th>\n",
       "      <th>Hipertension</th>\n",
       "      <th>Diabetes</th>\n",
       "      <th>Alcoholism</th>\n",
       "      <th>Handcap</th>\n",
       "      <th>SMS_received</th>\n",
       "      <th>No-show</th>\n",
       "    </tr>\n",
       "  </thead>\n",
       "  <tbody>\n",
       "    <tr>\n",
       "      <th>0</th>\n",
       "      <td>29872499824296</td>\n",
       "      <td>5642903</td>\n",
       "      <td>F</td>\n",
       "      <td>2016-04-29T18:38:08Z</td>\n",
       "      <td>2016-04-29T00:00:00Z</td>\n",
       "      <td>62</td>\n",
       "      <td>JARDIM DA PENHA</td>\n",
       "      <td>0</td>\n",
       "      <td>1</td>\n",
       "      <td>0</td>\n",
       "      <td>0</td>\n",
       "      <td>0</td>\n",
       "      <td>0</td>\n",
       "      <td>No</td>\n",
       "    </tr>\n",
       "    <tr>\n",
       "      <th>1</th>\n",
       "      <td>558997776694438</td>\n",
       "      <td>5642503</td>\n",
       "      <td>M</td>\n",
       "      <td>2016-04-29T16:08:27Z</td>\n",
       "      <td>2016-04-29T00:00:00Z</td>\n",
       "      <td>56</td>\n",
       "      <td>JARDIM DA PENHA</td>\n",
       "      <td>0</td>\n",
       "      <td>0</td>\n",
       "      <td>0</td>\n",
       "      <td>0</td>\n",
       "      <td>0</td>\n",
       "      <td>0</td>\n",
       "      <td>No</td>\n",
       "    </tr>\n",
       "    <tr>\n",
       "      <th>2</th>\n",
       "      <td>4262962299951</td>\n",
       "      <td>5642549</td>\n",
       "      <td>F</td>\n",
       "      <td>2016-04-29T16:19:04Z</td>\n",
       "      <td>2016-04-29T00:00:00Z</td>\n",
       "      <td>62</td>\n",
       "      <td>MATA DA PRAIA</td>\n",
       "      <td>0</td>\n",
       "      <td>0</td>\n",
       "      <td>0</td>\n",
       "      <td>0</td>\n",
       "      <td>0</td>\n",
       "      <td>0</td>\n",
       "      <td>No</td>\n",
       "    </tr>\n",
       "    <tr>\n",
       "      <th>3</th>\n",
       "      <td>867951213174</td>\n",
       "      <td>5642828</td>\n",
       "      <td>F</td>\n",
       "      <td>2016-04-29T17:29:31Z</td>\n",
       "      <td>2016-04-29T00:00:00Z</td>\n",
       "      <td>8</td>\n",
       "      <td>PONTAL DE CAMBURI</td>\n",
       "      <td>0</td>\n",
       "      <td>0</td>\n",
       "      <td>0</td>\n",
       "      <td>0</td>\n",
       "      <td>0</td>\n",
       "      <td>0</td>\n",
       "      <td>No</td>\n",
       "    </tr>\n",
       "    <tr>\n",
       "      <th>4</th>\n",
       "      <td>8841186448183</td>\n",
       "      <td>5642494</td>\n",
       "      <td>F</td>\n",
       "      <td>2016-04-29T16:07:23Z</td>\n",
       "      <td>2016-04-29T00:00:00Z</td>\n",
       "      <td>56</td>\n",
       "      <td>JARDIM DA PENHA</td>\n",
       "      <td>0</td>\n",
       "      <td>1</td>\n",
       "      <td>1</td>\n",
       "      <td>0</td>\n",
       "      <td>0</td>\n",
       "      <td>0</td>\n",
       "      <td>No</td>\n",
       "    </tr>\n",
       "  </tbody>\n",
       "</table>\n",
       "</div>"
      ],
      "text/plain": [
       "         PatientId  AppointmentID Gender          ScheduledDay  \\\n",
       "0   29872499824296        5642903      F  2016-04-29T18:38:08Z   \n",
       "1  558997776694438        5642503      M  2016-04-29T16:08:27Z   \n",
       "2    4262962299951        5642549      F  2016-04-29T16:19:04Z   \n",
       "3     867951213174        5642828      F  2016-04-29T17:29:31Z   \n",
       "4    8841186448183        5642494      F  2016-04-29T16:07:23Z   \n",
       "\n",
       "         AppointmentDay  Age      Neighbourhood  Scholarship  Hipertension  \\\n",
       "0  2016-04-29T00:00:00Z   62    JARDIM DA PENHA            0             1   \n",
       "1  2016-04-29T00:00:00Z   56    JARDIM DA PENHA            0             0   \n",
       "2  2016-04-29T00:00:00Z   62      MATA DA PRAIA            0             0   \n",
       "3  2016-04-29T00:00:00Z    8  PONTAL DE CAMBURI            0             0   \n",
       "4  2016-04-29T00:00:00Z   56    JARDIM DA PENHA            0             1   \n",
       "\n",
       "   Diabetes  Alcoholism  Handcap  SMS_received No-show  \n",
       "0         0           0        0             0      No  \n",
       "1         0           0        0             0      No  \n",
       "2         0           0        0             0      No  \n",
       "3         0           0        0             0      No  \n",
       "4         1           0        0             0      No  "
      ]
     },
     "execution_count": 85,
     "metadata": {},
     "output_type": "execute_result"
    }
   ],
   "source": [
    "# display appointment data set\n",
    "data.head()"
   ]
  },
  {
   "cell_type": "markdown",
   "metadata": {},
   "source": [
    "### 2. Data Quality Assessment<a id=\"ML2\"></a>"
   ]
  },
  {
   "cell_type": "markdown",
   "metadata": {},
   "source": [
    "#### Check Missing Values<a id=\"ML2-1\"></a>"
   ]
  },
  {
   "cell_type": "code",
   "execution_count": 86,
   "metadata": {},
   "outputs": [
    {
     "name": "stdout",
     "output_type": "stream",
     "text": [
      "PatientId         0\n",
      "AppointmentID     0\n",
      "Gender            0\n",
      "ScheduledDay      0\n",
      "AppointmentDay    0\n",
      "Age               0\n",
      "Neighbourhood     0\n",
      "Scholarship       0\n",
      "Hipertension      0\n",
      "Diabetes          0\n",
      "Alcoholism        0\n",
      "Handcap           0\n",
      "SMS_received      0\n",
      "No-show           0\n",
      "dtype: int64\n"
     ]
    }
   ],
   "source": [
    "# check if data set contains missing values\n",
    "print(data.isnull().sum())"
   ]
  },
  {
   "cell_type": "markdown",
   "metadata": {
    "collapsed": true
   },
   "source": [
    "No missing value exist in this data set."
   ]
  },
  {
   "cell_type": "markdown",
   "metadata": {},
   "source": [
    "#### Check Duplicated Values<a id=\"ML2-2\"></a>"
   ]
  },
  {
   "cell_type": "code",
   "execution_count": 87,
   "metadata": {},
   "outputs": [
    {
     "name": "stdout",
     "output_type": "stream",
     "text": [
      "0\n"
     ]
    }
   ],
   "source": [
    "# check if data set contains duplicated appointment ID\n",
    "print(data.AppointmentID.duplicated().sum())"
   ]
  },
  {
   "cell_type": "markdown",
   "metadata": {},
   "source": [
    "There is no duplicated appointments record in this data set. The data is clean."
   ]
  },
  {
   "cell_type": "code",
   "execution_count": 3,
   "metadata": {},
   "outputs": [
    {
     "data": {
      "text/plain": [
       "48228"
      ]
     },
     "execution_count": 3,
     "metadata": {},
     "output_type": "execute_result"
    }
   ],
   "source": [
    "# check if data set contains duplicated patient ID\n",
    "data.PatientId = data.PatientId.astype(int)\n",
    "data.PatientId.duplicated().sum()"
   ]
  },
  {
   "cell_type": "markdown",
   "metadata": {},
   "source": [
    "48228 out of 110527 (~43.6%) patients have more than one appointment records in this data set.\n",
    "\n",
    "Some people may constantly have higher probability of not-show. We will explore more on this in EDA part."
   ]
  },
  {
   "cell_type": "markdown",
   "metadata": {},
   "source": [
    "#### Check Category Variables<a id=\"ML2-3\"></a>"
   ]
  },
  {
   "cell_type": "code",
   "execution_count": 5,
   "metadata": {},
   "outputs": [
    {
     "name": "stdout",
     "output_type": "stream",
     "text": [
      "Gender: {'M', 'F'}\n",
      "Scholarship: {0, 1}\n",
      "Hipertension: {0, 1}\n",
      "Diabetes: {0, 1}\n",
      "Handcap: {0, 1, 2, 3, 4}\n",
      "SMS_received: {0, 1}\n",
      "SMS_received: {0, 1}\n",
      "No-show: {'No', 'Yes'}\n",
      "Number of different neighbourhood: 81\n"
     ]
    }
   ],
   "source": [
    "# check categories in category variables\n",
    "print(f\"Gender: {set(data.Gender)}\")\n",
    "print(f\"Scholarship: {set(data.Scholarship)}\")\n",
    "print(f\"Hipertension: {set(data.Hipertension)}\")\n",
    "print(f\"Diabetes: {set(data.Diabetes)}\")\n",
    "print(f\"Handcap: {set(data.Handcap)}\")\n",
    "print(f\"SMS_received: {set(data.SMS_received)}\")\n",
    "print(f\"SMS_received: {set(data.SMS_received)}\")\n",
    "print(f\"No-show: {set(data['No-show'])}\")\n",
    "\n",
    "# check number of categories in variable 'Neighbourhood'\n",
    "num_neigh = len(set(data.Neighbourhood))\n",
    "print(f'Number of different neighbourhood: {num_neigh}')"
   ]
  },
  {
   "cell_type": "markdown",
   "metadata": {
    "collapsed": true
   },
   "source": [
    "Based on above summary, we will do two more assessment:\n",
    "\n",
    "- variable name \"No-show\" and its categories are ambiguous, rename it.\n",
    "- variable \"Handcap\" is not binary, check its distribution."
   ]
  },
  {
   "cell_type": "code",
   "execution_count": 4,
   "metadata": {},
   "outputs": [
    {
     "data": {
      "image/png": "[encoded data removed]",
      "text/plain": [
       "<Figure size 432x288 with 1 Axes>"
      ]
     },
     "metadata": {},
     "output_type": "display_data"
    },
    {
     "name": "stdout",
     "output_type": "stream",
     "text": [
      "Percentage of Show-up Status: \n"
     ]
    },
    {
     "data": {
      "text/plain": [
       "Show-up    79.806744\n",
       "No-show    20.193256\n",
       "Name: Status, dtype: float64"
      ]
     },
     "execution_count": 4,
     "metadata": {},
     "output_type": "execute_result"
    }
   ],
   "source": [
    "# rename No-show column to Status and set \"No\" to \"Show-up\", \"Yes\" to \"No-show\"\n",
    "data.rename(columns = {\"No-show\": \"Status\"}, inplace=True)\n",
    "data.Status = data.Status.astype('category').cat.rename_categories(['Show-up', 'No-show'])\n",
    "\n",
    "# plot distribution of Show-up Status\n",
    "sns.countplot(x=\"Status\", data=data)\n",
    "plt.title(\"Bar plot of Show-up Status\")\n",
    "plt.show()\n",
    "\n",
    "print(\"Percentage of Show-up Status: \")\n",
    "100 * data['Status'].value_counts()/len(data)"
   ]
  },
  {
   "cell_type": "markdown",
   "metadata": {},
   "source": [
    "From the above chart we see that there are around 80% of the patients who have turned up. We see a clear class imbalance problem here. A naive approach of predicting that every one shows up gives us an accuracy of 0.8."
   ]
  },
  {
   "cell_type": "code",
   "execution_count": 91,
   "metadata": {},
   "outputs": [
    {
     "data": {
      "image/png": "[encoded data removed]",
      "text/plain": [
       "<Figure size 720x360 with 1 Axes>"
      ]
     },
     "metadata": {},
     "output_type": "display_data"
    },
    {
     "data": {
      "text/plain": [
       "0    108286\n",
       "1      2042\n",
       "2       183\n",
       "3        13\n",
       "4         3\n",
       "Name: Handcap, dtype: int64"
      ]
     },
     "execution_count": 91,
     "metadata": {},
     "output_type": "execute_result"
    }
   ],
   "source": [
    "# variable \"Handcap\" is not binary, check its distribution\n",
    "plt.figure(figsize=(10,5))\n",
    "sns.countplot(x=\"Handcap\", data=data)\n",
    "plt.title('Bar plot of Handicap')\n",
    "plt.show()\n",
    "data.Handcap.value_counts()"
   ]
  },
  {
   "cell_type": "markdown",
   "metadata": {},
   "source": [
    "The different categories of handicap may stand for different levels of disability.\n",
    "\n",
    "We can create a binary variable representing not handicap(0) and handicap(1) for future comparing."
   ]
  },
  {
   "cell_type": "code",
   "execution_count": 5,
   "metadata": {},
   "outputs": [],
   "source": [
    "# create a binary variable \"Handicap\"\n",
    "data['Handicap'] = (data.Handcap!=0).astype(int)"
   ]
  },
  {
   "cell_type": "markdown",
   "metadata": {},
   "source": [
    "#### Check Numerical Variables<a id=\"ML2-4\"></a>"
   ]
  },
  {
   "cell_type": "code",
   "execution_count": 94,
   "metadata": {},
   "outputs": [
    {
     "data": {
      "image/png": "[encoded data removed]",
      "text/plain": [
       "<Figure size 720x360 with 1 Axes>"
      ]
     },
     "metadata": {},
     "output_type": "display_data"
    },
    {
     "data": {
      "text/plain": [
       "count    110527.000000\n",
       "mean         37.088874\n",
       "std          23.110205\n",
       "min          -1.000000\n",
       "25%          18.000000\n",
       "50%          37.000000\n",
       "75%          55.000000\n",
       "max         115.000000\n",
       "Name: Age, dtype: float64"
      ]
     },
     "execution_count": 94,
     "metadata": {},
     "output_type": "execute_result"
    }
   ],
   "source": [
    "# check value distribution of variable \"Age\"\n",
    "plt.figure(figsize=(10,5))\n",
    "sns.distplot(data.Age, bins=25)\n",
    "plt.title(\"Distribution of Age\")\n",
    "plt.xlabel('Age')\n",
    "plt.show()\n",
    "\n",
    "data.Age.describe()"
   ]
  },
  {
   "cell_type": "markdown",
   "metadata": {
    "collapsed": true
   },
   "source": [
    "Negative values appear in \"Age\", we will take a closer look at it."
   ]
  },
  {
   "cell_type": "code",
   "execution_count": 6,
   "metadata": {},
   "outputs": [
    {
     "name": "stdout",
     "output_type": "stream",
     "text": [
      "Number of \"Age\" that have negative value: 1\n",
      "Remove the negative age from data set because it is apparently not valid.\n"
     ]
    }
   ],
   "source": [
    "# check how many negative values are there in \"Age\" variable\n",
    "print(f'Number of \"Age\" that have negative value: {sum(data.Age<0)}')\n",
    "\n",
    "# remove the negative value from data set because it is apparently not valid\n",
    "data = data[data.Age >= 0].reset_index()\n",
    "print(\"Remove the negative age from data set because it is apparently not valid.\")"
   ]
  },
  {
   "cell_type": "markdown",
   "metadata": {},
   "source": [
    "### 3. Exploratory Data Analysis and Feature Selection<a id=\"ML3\"></a>"
   ]
  },
  {
   "cell_type": "markdown",
   "metadata": {},
   "source": [
    "#### Exploring on \"ScheduledDay\" and \"AppointmentDay\"<a id=\"ML3-1\"></a>"
   ]
  },
  {
   "cell_type": "code",
   "execution_count": 96,
   "metadata": {},
   "outputs": [
    {
     "data": {
      "text/html": [
       "<div>\n",
       "<style scoped>\n",
       "    .dataframe tbody tr th:only-of-type {\n",
       "        vertical-align: middle;\n",
       "    }\n",
       "\n",
       "    .dataframe tbody tr th {\n",
       "        vertical-align: top;\n",
       "    }\n",
       "\n",
       "    .dataframe thead th {\n",
       "        text-align: right;\n",
       "    }\n",
       "</style>\n",
       "<table border=\"1\" class=\"dataframe\">\n",
       "  <thead>\n",
       "    <tr style=\"text-align: right;\">\n",
       "      <th></th>\n",
       "      <th>PatientId</th>\n",
       "      <th>AppointmentID</th>\n",
       "      <th>ScheduledDay</th>\n",
       "      <th>AppointmentDay</th>\n",
       "    </tr>\n",
       "  </thead>\n",
       "  <tbody>\n",
       "    <tr>\n",
       "      <th>0</th>\n",
       "      <td>29872499824296</td>\n",
       "      <td>5642903</td>\n",
       "      <td>2016-04-29T18:38:08Z</td>\n",
       "      <td>2016-04-29T00:00:00Z</td>\n",
       "    </tr>\n",
       "    <tr>\n",
       "      <th>1</th>\n",
       "      <td>558997776694438</td>\n",
       "      <td>5642503</td>\n",
       "      <td>2016-04-29T16:08:27Z</td>\n",
       "      <td>2016-04-29T00:00:00Z</td>\n",
       "    </tr>\n",
       "    <tr>\n",
       "      <th>2</th>\n",
       "      <td>4262962299951</td>\n",
       "      <td>5642549</td>\n",
       "      <td>2016-04-29T16:19:04Z</td>\n",
       "      <td>2016-04-29T00:00:00Z</td>\n",
       "    </tr>\n",
       "    <tr>\n",
       "      <th>3</th>\n",
       "      <td>867951213174</td>\n",
       "      <td>5642828</td>\n",
       "      <td>2016-04-29T17:29:31Z</td>\n",
       "      <td>2016-04-29T00:00:00Z</td>\n",
       "    </tr>\n",
       "    <tr>\n",
       "      <th>4</th>\n",
       "      <td>8841186448183</td>\n",
       "      <td>5642494</td>\n",
       "      <td>2016-04-29T16:07:23Z</td>\n",
       "      <td>2016-04-29T00:00:00Z</td>\n",
       "    </tr>\n",
       "  </tbody>\n",
       "</table>\n",
       "</div>"
      ],
      "text/plain": [
       "         PatientId  AppointmentID          ScheduledDay        AppointmentDay\n",
       "0   29872499824296        5642903  2016-04-29T18:38:08Z  2016-04-29T00:00:00Z\n",
       "1  558997776694438        5642503  2016-04-29T16:08:27Z  2016-04-29T00:00:00Z\n",
       "2    4262962299951        5642549  2016-04-29T16:19:04Z  2016-04-29T00:00:00Z\n",
       "3     867951213174        5642828  2016-04-29T17:29:31Z  2016-04-29T00:00:00Z\n",
       "4    8841186448183        5642494  2016-04-29T16:07:23Z  2016-04-29T00:00:00Z"
      ]
     },
     "execution_count": 96,
     "metadata": {},
     "output_type": "execute_result"
    }
   ],
   "source": [
    "# display 'ScheduledDay' and 'AppointmentDay'\n",
    "data.loc[:,['PatientId', 'AppointmentID', 'ScheduledDay','AppointmentDay']].head()"
   ]
  },
  {
   "cell_type": "markdown",
   "metadata": {
    "collapsed": true
   },
   "source": [
    "\"ScheduledDay\" and \"AppointmentDay\" can not be directly use for analysis, we will extract following information from the two variables:\n",
    "\n",
    "- month in ScheduledDay\n",
    "- week day in ScheduledDay\n",
    "- month in AppointmentDay\n",
    "- week day in AppointmentDay\n",
    "- awaiting days(AppointmentDay_Date - ScheduledDay_Date)\n",
    "\n",
    "The \"AppointmentDay\" does not contain precise appointment time(in hour), hence we cannot obtain this information from the data set."
   ]
  },
  {
   "cell_type": "code",
   "execution_count": 7,
   "metadata": {},
   "outputs": [
    {
     "data": {
      "text/html": [
       "<div>\n",
       "<style scoped>\n",
       "    .dataframe tbody tr th:only-of-type {\n",
       "        vertical-align: middle;\n",
       "    }\n",
       "\n",
       "    .dataframe tbody tr th {\n",
       "        vertical-align: top;\n",
       "    }\n",
       "\n",
       "    .dataframe thead th {\n",
       "        text-align: right;\n",
       "    }\n",
       "</style>\n",
       "<table border=\"1\" class=\"dataframe\">\n",
       "  <thead>\n",
       "    <tr style=\"text-align: right;\">\n",
       "      <th></th>\n",
       "      <th>PatientId</th>\n",
       "      <th>AppointmentID</th>\n",
       "      <th>ScheduledDay_Date</th>\n",
       "      <th>ScheduledDay_Month</th>\n",
       "      <th>ScheduledDay_Weekday</th>\n",
       "      <th>AppointmentDay_Date</th>\n",
       "      <th>AppointmentDay_Month</th>\n",
       "      <th>AppointmentDay_Weekday</th>\n",
       "      <th>Awaiting_Days</th>\n",
       "    </tr>\n",
       "  </thead>\n",
       "  <tbody>\n",
       "    <tr>\n",
       "      <th>0</th>\n",
       "      <td>1002280616</td>\n",
       "      <td>5642903</td>\n",
       "      <td>2016-04-29</td>\n",
       "      <td>4</td>\n",
       "      <td>4</td>\n",
       "      <td>2016-04-29</td>\n",
       "      <td>4</td>\n",
       "      <td>4</td>\n",
       "      <td>0</td>\n",
       "    </tr>\n",
       "    <tr>\n",
       "      <th>1</th>\n",
       "      <td>-806814554</td>\n",
       "      <td>5642503</td>\n",
       "      <td>2016-04-29</td>\n",
       "      <td>4</td>\n",
       "      <td>4</td>\n",
       "      <td>2016-04-29</td>\n",
       "      <td>4</td>\n",
       "      <td>4</td>\n",
       "      <td>0</td>\n",
       "    </tr>\n",
       "    <tr>\n",
       "      <th>2</th>\n",
       "      <td>-1940224977</td>\n",
       "      <td>5642549</td>\n",
       "      <td>2016-04-29</td>\n",
       "      <td>4</td>\n",
       "      <td>4</td>\n",
       "      <td>2016-04-29</td>\n",
       "      <td>4</td>\n",
       "      <td>4</td>\n",
       "      <td>0</td>\n",
       "    </tr>\n",
       "    <tr>\n",
       "      <th>3</th>\n",
       "      <td>367819382</td>\n",
       "      <td>5642828</td>\n",
       "      <td>2016-04-29</td>\n",
       "      <td>4</td>\n",
       "      <td>4</td>\n",
       "      <td>2016-04-29</td>\n",
       "      <td>4</td>\n",
       "      <td>4</td>\n",
       "      <td>0</td>\n",
       "    </tr>\n",
       "    <tr>\n",
       "      <th>4</th>\n",
       "      <td>2143753015</td>\n",
       "      <td>5642494</td>\n",
       "      <td>2016-04-29</td>\n",
       "      <td>4</td>\n",
       "      <td>4</td>\n",
       "      <td>2016-04-29</td>\n",
       "      <td>4</td>\n",
       "      <td>4</td>\n",
       "      <td>0</td>\n",
       "    </tr>\n",
       "  </tbody>\n",
       "</table>\n",
       "</div>"
      ],
      "text/plain": [
       "    PatientId  AppointmentID ScheduledDay_Date ScheduledDay_Month  \\\n",
       "0  1002280616        5642903        2016-04-29                  4   \n",
       "1  -806814554        5642503        2016-04-29                  4   \n",
       "2 -1940224977        5642549        2016-04-29                  4   \n",
       "3   367819382        5642828        2016-04-29                  4   \n",
       "4  2143753015        5642494        2016-04-29                  4   \n",
       "\n",
       "   ScheduledDay_Weekday AppointmentDay_Date AppointmentDay_Month  \\\n",
       "0                     4          2016-04-29                    4   \n",
       "1                     4          2016-04-29                    4   \n",
       "2                     4          2016-04-29                    4   \n",
       "3                     4          2016-04-29                    4   \n",
       "4                     4          2016-04-29                    4   \n",
       "\n",
       "   AppointmentDay_Weekday  Awaiting_Days  \n",
       "0                       4              0  \n",
       "1                       4              0  \n",
       "2                       4              0  \n",
       "3                       4              0  \n",
       "4                       4              0  "
      ]
     },
     "execution_count": 7,
     "metadata": {},
     "output_type": "execute_result"
    }
   ],
   "source": [
    "# create a new column \"ScheduledDay_Date\" containing the date in ScheduledDay.\n",
    "data['ScheduledDay_Date'] = data.ScheduledDay.str.extract('(\\d{4}-\\d{2}-\\d{2})', expand=True)\n",
    "\n",
    "# create a new column \"ScheduledDay_Month\" containing the month in ScheduledDay.\n",
    "data['ScheduledDay_Month'] = data.ScheduledDay_Date.str.extract('(\\d{4}-)(\\d{2})(-\\d{2})', expand=True)[1].str.replace('0','')\n",
    "\n",
    "# create a new column \"ScheduledDay_Weekday\" containing the week day in ScheduledDay.\n",
    "data['ScheduledDay_Weekday'] = pd.to_datetime(data.ScheduledDay_Date).dt.weekday\n",
    "\n",
    "# create a new column \"AppointmentDay_Date\" containing the date in AppointmentDay.\n",
    "data['AppointmentDay_Date'] = data.AppointmentDay.str.extract('(\\d{4}-\\d{2}-\\d{2})', expand=True)\n",
    "\n",
    "# create a new column \"AppointmentDay_Month\" containing the month in AppointmentDay.\n",
    "data['AppointmentDay_Month'] = data.AppointmentDay_Date.str.extract('(\\d{4}-)(\\d{2})(-\\d{2})', expand=True)[1].str.replace('0','')\n",
    "\n",
    "# create a new column \"AppointmentDay_Weekday\" containing the week day in AppointmentDay.\n",
    "data['AppointmentDay_Weekday'] = pd.to_datetime(data.AppointmentDay_Date).dt.weekday\n",
    "\n",
    "# create a new column \"Awaiting_Days\" containing only the awaiting time in days(AppointmentDay_Date - ScheduledDay_Date).\n",
    "data['Awaiting_Days'] = ((pd.to_datetime(data.AppointmentDay_Date)-pd.to_datetime(data.ScheduledDay_Date))/np.timedelta64(1, 'D')).astype(int)\n",
    "\n",
    "# display new columns\n",
    "data.loc[:,['PatientId', 'AppointmentID', 'ScheduledDay_Date', 'ScheduledDay_Month', 'ScheduledDay_Weekday', 'AppointmentDay_Date', 'AppointmentDay_Month', 'AppointmentDay_Weekday', 'Awaiting_Days']].head()"
   ]
  },
  {
   "cell_type": "markdown",
   "metadata": {},
   "source": [
    "Let's plot out these new variables and see what kind of relationship it has with Show-up Rate."
   ]
  },
  {
   "cell_type": "code",
   "execution_count": 8,
   "metadata": {},
   "outputs": [
    {
     "data": {
      "image/png": "[encoded data removed]",
      "text/plain": [
       "<Figure size 720x360 with 1 Axes>"
      ]
     },
     "metadata": {},
     "output_type": "display_data"
    },
    {
     "name": "stdout",
     "output_type": "stream",
     "text": [
      "Number of records on each month: \n",
      "5     67421\n",
      "4     25339\n",
      "6     13749\n",
      "3      3614\n",
      "2       281\n",
      "12       61\n",
      "1        60\n",
      "11        1\n",
      "Name: ScheduledDay_Month, dtype: int64\n"
     ]
    },
    {
     "data": {
      "image/png": "[encoded data removed]",
      "text/plain": [
       "<Figure size 720x360 with 1 Axes>"
      ]
     },
     "metadata": {},
     "output_type": "display_data"
    },
    {
     "name": "stdout",
     "output_type": "stream",
     "text": [
      "Number of records on each weekday: \n",
      "1    26168\n",
      "2    24262\n",
      "0    23084\n",
      "4    18915\n",
      "3    18073\n",
      "5       24\n",
      "Name: ScheduledDay_Weekday, dtype: int64\n"
     ]
    },
    {
     "data": {
      "image/png": "[encoded data removed]",
      "text/plain": [
       "<Figure size 720x360 with 1 Axes>"
      ]
     },
     "metadata": {},
     "output_type": "display_data"
    },
    {
     "name": "stdout",
     "output_type": "stream",
     "text": [
      "Number of records on each month: \n",
      "5    80841\n",
      "6    26450\n",
      "4     3235\n",
      "Name: AppointmentDay_Month, dtype: int64\n"
     ]
    },
    {
     "data": {
      "image/png": "[encoded data removed]",
      "text/plain": [
       "<Figure size 720x360 with 1 Axes>"
      ]
     },
     "metadata": {},
     "output_type": "display_data"
    },
    {
     "name": "stdout",
     "output_type": "stream",
     "text": [
      "Number of records on each weekday: \n",
      "2    25867\n",
      "1    25640\n",
      "0    22714\n",
      "4    19019\n",
      "3    17247\n",
      "5       39\n",
      "Name: AppointmentDay_Weekday, dtype: int64\n"
     ]
    }
   ],
   "source": [
    "# copy data to time_analysis and transform \"Status\" to dummy variable\n",
    "time_analysis = data.copy()\n",
    "time_analysis.Status = time_analysis.Status.astype('category').cat.rename_categories([1, 0]).astype(int)\n",
    "\n",
    "# plot Show-up Rate V.S. ScheduledDay_Month\n",
    "plt.figure(figsize=(10,5))\n",
    "sns.barplot(x=\"ScheduledDay_Month\", y=\"Status\", data=time_analysis)\n",
    "plt.title('Show-up Rate V.S. ScheduledDay_Month')\n",
    "plt.ylabel(\"Show-up Rate\")\n",
    "plt.show()\n",
    "# number of records on each ScheduledDay_Month\n",
    "print(\"Number of records on each month: \")\n",
    "print(time_analysis.ScheduledDay_Month.value_counts())\n",
    "\n",
    "# plot Show-up Rate V.S. ScheduledDay_Weekday\n",
    "plt.figure(figsize=(10,5))\n",
    "sns.barplot(x=\"ScheduledDay_Weekday\", y=\"Status\", data=time_analysis)\n",
    "plt.title('Show-up Rate V.S. ScheduledDay_Weekday')\n",
    "plt.ylabel(\"Show-up Rate\")\n",
    "plt.show()\n",
    "# number of records on each ScheduledDay_Weekday\n",
    "print(\"Number of records on each weekday: \")\n",
    "print(time_analysis.ScheduledDay_Weekday.value_counts())\n",
    "\n",
    "# plot Show-up Rate V.S. AppointmentDay_Month\n",
    "plt.figure(figsize=(10,5))\n",
    "sns.barplot(x=\"AppointmentDay_Month\", y=\"Status\", data=time_analysis)\n",
    "plt.title('Show-up Rate V.S. AppointmentDay_Month')\n",
    "plt.ylabel(\"Show-up Rate\")\n",
    "plt.show()\n",
    "# number of records on each AppointmentDay_Month\n",
    "print(\"Number of records on each month: \")\n",
    "print(time_analysis.AppointmentDay_Month.value_counts())\n",
    "\n",
    "# plot Show-up Rate V.S. AppointmentDay_Weekday\n",
    "plt.figure(figsize=(10,5))\n",
    "sns.barplot(x=\"AppointmentDay_Weekday\", y=\"Status\", data=time_analysis)\n",
    "plt.title('Show-up Rate V.S. AppointmentDay_Weekday')\n",
    "plt.ylabel(\"Show-up Rate\")\n",
    "plt.show()\n",
    "# number of records on each AppointmentDay_Weekday\n",
    "print(\"Number of records on each weekday: \")\n",
    "print(time_analysis.AppointmentDay_Weekday.value_counts())"
   ]
  },
  {
   "cell_type": "markdown",
   "metadata": {},
   "source": [
    "Let's firstly look at Show-up Rate V.S. AppointmentDay_Month. The show-up rate in each month are nearly the same, in other words, it is very close to a uniform distribution. Because there is no evidence showing AppointmentDay_Month has any relationship with show-up rate, it is not a good attribute for machine learning model.\n",
    "\n",
    "Show-up Rate V.S. ScheduledDay_Month gives us some insteresting insights. Month 1,2,3,4,12 have a small difference in show-up rate. Month 11 have extremely high show-up rate (100%), however, cause there is only one record existing in this month, we will treat it as a bias. Month 5 and 6 have high show-up rate compared with other months. We can create a binary variable for scheduled month 5 and 6.\n",
    "\n",
    "Show-up Rate V.S. AppointmentDay_Weekday does not give us any useful insight, it is very close to a uniform distribution. AppointmentDay_Weekday is not a good attribute for machine learning model.\n",
    "\n",
    "Show-up Rate V.S. ScheduledDay_Weekday does not give us any useful insight, it is very close to a uniform distribution. Although Saturday is obviously higher than other weekdays, number of records on this day are too small. AppointmentDay_Weekday is not a good attribute for machine learning model."
   ]
  },
  {
   "cell_type": "code",
   "execution_count": 9,
   "metadata": {},
   "outputs": [],
   "source": [
    "# create a binary variable \"If_ScheduledMonth56\"\n",
    "data['If_ScheduledMonth56'] = data.ScheduledDay_Month.isin(['5','6']).astype(int)"
   ]
  },
  {
   "cell_type": "markdown",
   "metadata": {},
   "source": [
    "Next, we will explore the relationship between Awaiting Days and Show-Up rate."
   ]
  },
  {
   "cell_type": "code",
   "execution_count": 100,
   "metadata": {},
   "outputs": [
    {
     "data": {
      "image/png": "[encoded data removed]",
      "text/plain": [
       "<Figure size 720x360 with 1 Axes>"
      ]
     },
     "metadata": {},
     "output_type": "display_data"
    },
    {
     "data": {
      "image/png": "[encoded data removed]",
      "text/plain": [
       "<Figure size 720x360 with 1 Axes>"
      ]
     },
     "metadata": {},
     "output_type": "display_data"
    },
    {
     "data": {
      "text/plain": [
       "count    110526.000000\n",
       "mean         10.183794\n",
       "std          15.255034\n",
       "min          -6.000000\n",
       "25%           0.000000\n",
       "50%           4.000000\n",
       "75%          15.000000\n",
       "max         179.000000\n",
       "Name: Awaiting_Days, dtype: float64"
      ]
     },
     "execution_count": 100,
     "metadata": {},
     "output_type": "execute_result"
    }
   ],
   "source": [
    "# check value distribution of variable \"Awaiting_Days\" - distplot\n",
    "plt.figure(figsize=(10,5))\n",
    "sns.distplot(data.Awaiting_Days)\n",
    "plt.title(\"Distribution of Awaiting Days\")\n",
    "plt.xlabel('Awaiting Days')\n",
    "\n",
    "# check value distribution of variable \"Awaiting_Days\" - stripplot\n",
    "plt.figure(figsize=(10,5))\n",
    "sns.stripplot(data = time_analysis, y = 'Awaiting_Days', jitter = True, alpha = 0.1)\n",
    "plt.title(\"Strip Plot of Awaiting Days\")\n",
    "plt.ylabel(\"Awaiting Days\")\n",
    "plt.xlabel(\"\")\n",
    "\n",
    "plt.show()\n",
    "\n",
    "data.Awaiting_Days.describe()"
   ]
  },
  {
   "cell_type": "markdown",
   "metadata": {},
   "source": [
    "- Most patients are planned their appointment few days in advance or even on the same day.\n",
    "- Negative values appear in \"Awaiting Days\", we will take a closer look at it."
   ]
  },
  {
   "cell_type": "code",
   "execution_count": 10,
   "metadata": {},
   "outputs": [
    {
     "name": "stdout",
     "output_type": "stream",
     "text": [
      "Number of \"Awaiting Days\" that have negative value: 5\n",
      "Remove the negative awaiting days from data set because they are apparently not valid.\n"
     ]
    }
   ],
   "source": [
    "# check how many negative values are there in \"Awaiting Days\" variable\n",
    "print(f'Number of \"Awaiting Days\" that have negative value: {sum(data.Awaiting_Days<0)}')\n",
    "\n",
    "# remove the negative values from data set because they are apparently not valid\n",
    "data = data[data.Awaiting_Days >= 0].reset_index()\n",
    "print(\"Remove the negative awaiting days from data set because they are apparently not valid.\")"
   ]
  },
  {
   "cell_type": "code",
   "execution_count": 11,
   "metadata": {},
   "outputs": [
    {
     "data": {
      "image/png": "[encoded data removed]",
      "text/plain": [
       "<Figure size 720x360 with 1 Axes>"
      ]
     },
     "metadata": {},
     "output_type": "display_data"
    },
    {
     "name": "stdout",
     "output_type": "stream",
     "text": [
      " Day  Showup_Rate  Num_Record  Num_Record_Perc\n",
      "   0     0.953529       38562            34.89\n",
      "   1     0.786495        5213             4.72\n",
      "   2     0.761784        6725             6.08\n",
      "   3     0.764706        2737             2.48\n",
      "   4     0.767297        5290             4.79\n",
      "   5     0.733903        3277             2.97\n",
      "   6     0.752044        4037             3.65\n",
      "   7     0.733184        4906             4.44\n",
      "   8     0.712693        2332             2.11\n",
      "   9     0.725857        1605             1.45\n",
      "  10     0.683681        1391             1.26\n",
      "Awaiting time for less than or equal to 10 days represent 68.84% of data in entire data set.\n"
     ]
    }
   ],
   "source": [
    "# copy data to time_analysis and transform \"Status\" to dummy variable\n",
    "time_analysis = data.copy()\n",
    "time_analysis.Status = time_analysis.Status.astype('category').cat.rename_categories([1, 0]).astype(int)\n",
    "\n",
    "# calculate number of records for each \"Awaiting Day\"\n",
    "awaiting_valuecount = time_analysis.Awaiting_Days.value_counts()\n",
    "awaiting_valuecount = pd.DataFrame({\"day\": awaiting_valuecount.index.values, \"num_record\": np.array(awaiting_valuecount)})\n",
    "awaiting_valuecount = awaiting_valuecount.sort_values(by=['day'], ascending=True)\n",
    "awaiting_valuecount['num_record_perc'] = round(100 * awaiting_valuecount.num_record/len(data),2)\n",
    "\n",
    "# group by Awaiting Days and calculate its show-up rate\n",
    "showup_rate = time_analysis.groupby(\"Awaiting_Days\")[\"Status\"].mean()\n",
    "day = np.sort(time_analysis.Awaiting_Days.unique())\n",
    "awaiting_analysis = pd.DataFrame({\"Day\":day, \"Showup_Rate\":np.array(showup_rate), \"Num_Record\":np.array(awaiting_valuecount.num_record), \"Num_Record_Perc\": np.array(awaiting_valuecount.num_record_perc)})\n",
    "\n",
    "# plot Showup Rate V.S. Awaiting Days \n",
    "plt.figure(figsize=(10,5))\n",
    "sns.regplot(x=\"Day\", y=\"Showup_Rate\", data=awaiting_analysis, ci=False, fit_reg=False)\n",
    "plt.plot([10, 10], [1, 0], linewidth=3)\n",
    "plt.title(\"Show-up Rate V.S. Awaiting Days\")\n",
    "plt.xlabel('Awaiting Days')\n",
    "plt.ylabel('Show-up Rate')\n",
    "plt.show()\n",
    "print(awaiting_analysis.head(11).to_string(index=False))\n",
    "perc_top10 = round(sum(awaiting_analysis.Num_Record_Perc.head(11)),2)\n",
    "print(f\"Awaiting time for less than or equal to 10 days represent {perc_top10}% of data in entire data set.\")"
   ]
  },
  {
   "cell_type": "markdown",
   "metadata": {},
   "source": [
    "Although the entire distribution of Showup Rate V.S. Awaiting Days does not show a strong relationship, awaiting time for less than or equal to 10 days show a distinctly negative relationship. Especially, people who scheduled his/her appoinment on the same day will have a obviously high show-up rate and this type of situation represent 34.89% of data in entire data set.\n",
    "\n",
    "We will create one binary variable to represent:\n",
    "\n",
    "- People who scheduled his/her appoinment on the same day\n",
    "\n",
    "For those points that reach either 1 or 0 show-up rate are caused by too small sample size on that \"Awaiting Days\"."
   ]
  },
  {
   "cell_type": "code",
   "execution_count": 12,
   "metadata": {},
   "outputs": [],
   "source": [
    "# create a binary variable \"If_0Await\"\n",
    "data['If_0Await'] = (data.Awaiting_Days==0).astype(int)"
   ]
  },
  {
   "cell_type": "markdown",
   "metadata": {},
   "source": [
    "#### Exploring on Given Binary Dummy Variables<a id=\"ML3-2\"></a>"
   ]
  },
  {
   "cell_type": "markdown",
   "metadata": {},
   "source": [
    "Variables include: Scholarship, Hipertension, Diabetes, Alcoholism, Handicap, SMS_received"
   ]
  },
  {
   "cell_type": "code",
   "execution_count": 13,
   "metadata": {},
   "outputs": [],
   "source": [
    "# copy data to dummy_analysis and transform \"Status\" to dummy variable\n",
    "dummy_analysis = data.copy()\n",
    "dummy_analysis.Status = dummy_analysis.Status.astype('category').cat.rename_categories([1, 0]).astype(int)"
   ]
  },
  {
   "cell_type": "code",
   "execution_count": 105,
   "metadata": {},
   "outputs": [
    {
     "data": {
      "image/png": "[encoded data removed]",
      "text/plain": [
       "<Figure size 864x720 with 6 Axes>"
      ]
     },
     "metadata": {},
     "output_type": "display_data"
    }
   ],
   "source": [
    "# plot Show-up Rate V.S. Binary Dummy Variables\n",
    "plt.figure(figsize=(12,10))\n",
    "plt.subplot(2, 3, 1)\n",
    "sns.barplot(x=\"Scholarship\", y=\"Status\", data=dummy_analysis)\n",
    "plt.title('Show-up Rate V.S. Scholarship')\n",
    "plt.ylabel(\"Show-up Rate\")\n",
    "\n",
    "plt.subplot(2, 3, 2)\n",
    "sns.barplot(x=\"Hipertension\", y=\"Status\", data=dummy_analysis)\n",
    "plt.title('Show-up Rate V.S. Hipertension')\n",
    "plt.ylabel(\"Show-up Rate\")\n",
    "\n",
    "plt.subplot(2, 3, 3)\n",
    "sns.barplot(x=\"Diabetes\", y=\"Status\", data=dummy_analysis)\n",
    "plt.title('Show-up Rate V.S. Diabetes')\n",
    "plt.ylabel(\"Show-up Rate\")\n",
    "\n",
    "plt.subplot(2, 3, 4)\n",
    "sns.barplot(x=\"Alcoholism\", y=\"Status\", data=dummy_analysis)\n",
    "plt.title('Show-up Rate V.S. Alcoholism')\n",
    "plt.ylabel(\"Show-up Rate\")\n",
    "\n",
    "plt.subplot(2, 3, 5)\n",
    "sns.barplot(x=\"Handicap\", y=\"Status\", data=dummy_analysis)\n",
    "plt.title('Show-up Rate V.S. Handicap')\n",
    "plt.ylabel(\"Show-up Rate\")\n",
    "\n",
    "plt.subplot(2, 3, 6)\n",
    "sns.barplot(x=\"SMS_received\", y=\"Status\", data=dummy_analysis)\n",
    "plt.title('Show-up Rate V.S. SMS_received')\n",
    "plt.ylabel(\"Show-up Rate\")\n",
    "\n",
    "plt.show()"
   ]
  },
  {
   "cell_type": "markdown",
   "metadata": {
    "collapsed": true
   },
   "source": [
    "Show-up Rate V.S. Alcoholism shows a uniform distribution. Either Alcoholism or not Alcoholism have around 80% Show-up rate, this feature may not add much value while building a model.\n",
    "\n",
    "The distribution of Show-up Rate V.S. SMS_received does not make sense. People who do receive a reminder SMS usually tend to visit the hospital more than those who haven't received an SMS. This discrepancy may cause by human error when collecting data. Or this could be an SMS that was recived while booking an appointment and could possibly have no correlation with the visit probability.\n",
    "\n",
    "Hence, \"Alcoholism\" and \"SMS_received\" are not good predictors for machine learning model."
   ]
  },
  {
   "cell_type": "markdown",
   "metadata": {},
   "source": [
    "#### Exploring on \"Neighbourhood\"<a id=\"ML3-3\"></a>"
   ]
  },
  {
   "cell_type": "code",
   "execution_count": 106,
   "metadata": {},
   "outputs": [
    {
     "data": {
      "image/png": "[encoded data removed]",
      "text/plain": [
       "<Figure size 1080x360 with 1 Axes>"
      ]
     },
     "metadata": {},
     "output_type": "display_data"
    },
    {
     "data": {
      "image/png": "[encoded data removed]",
      "text/plain": [
       "<Figure size 1080x360 with 1 Axes>"
      ]
     },
     "metadata": {},
     "output_type": "display_data"
    }
   ],
   "source": [
    "# plot distribution of variable Neighbourhood\n",
    "plt.figure(figsize=(15,5))\n",
    "sns.countplot(x=\"Neighbourhood\", data=dummy_analysis)\n",
    "plt.xticks(rotation=90)\n",
    "plt.title(\"Count Plot of Neighbourhood\")\n",
    "plt.xlabel('Neighbourhood')\n",
    "plt.ylabel(\"Count\")\n",
    "plt.show()\n",
    "\n",
    "# plot Show-up Rate V.S. Neighbourhood\n",
    "plt.figure(figsize=(15,5))\n",
    "sns.barplot(x=\"Neighbourhood\", y=\"Status\", data=dummy_analysis)\n",
    "plt.xticks(rotation=90)\n",
    "plt.title('Show-up Rate V.S. Neighbourhood')\n",
    "plt.ylabel(\"Show-up Rate\")\n",
    "plt.show()"
   ]
  },
  {
   "cell_type": "markdown",
   "metadata": {},
   "source": [
    "From the Count Plot of Neighbourhood, we can see that the number of patients for few Neighbourhood's is very high.\n",
    "\n",
    "The distribution of Show-up Rate V.S. Neighbourhood is close to uniform. Show-up Rate may not stongly relavent to location.\n",
    "\n",
    "Hence, \"Neighbourhood\" may not play an important role in determining if a patient comes for a visit or not."
   ]
  },
  {
   "cell_type": "markdown",
   "metadata": {},
   "source": [
    "#### Exploring on \"Age\"<a id=\"ML3-4\"></a>"
   ]
  },
  {
   "cell_type": "code",
   "execution_count": 14,
   "metadata": {},
   "outputs": [
    {
     "data": {
      "text/plain": [
       "48223"
      ]
     },
     "execution_count": 14,
     "metadata": {},
     "output_type": "execute_result"
    }
   ],
   "source": [
    "# check if data set contains duplicated patient ID\n",
    "data.PatientId = data.PatientId.astype(int)\n",
    "data.PatientId.duplicated().sum()"
   ]
  },
  {
   "cell_type": "code",
   "execution_count": 15,
   "metadata": {},
   "outputs": [
    {
     "data": {
      "image/png": "[encoded data removed]",
      "text/plain": [
       "<Figure size 864x144 with 1 Axes>"
      ]
     },
     "metadata": {},
     "output_type": "display_data"
    },
    {
     "data": {
      "image/png": "[encoded data removed]",
      "text/plain": [
       "<Figure size 720x360 with 1 Axes>"
      ]
     },
     "metadata": {},
     "output_type": "display_data"
    }
   ],
   "source": [
    "age_showup_rate = dummy_analysis.groupby(['Age'])['Status'].mean()\n",
    "age_showup_rate = pd.DataFrame({\"Age\": age_showup_rate.index, \"Showup_Rate\": np.array(age_showup_rate)})\n",
    "\n",
    "# boxplot of Age distribution\n",
    "plt.figure(figsize=(12,2))\n",
    "sns.boxplot(x=\"Age\", data=dummy_analysis)\n",
    "plt.xticks(rotation=90)\n",
    "plt.title(\"Boxplot of Age Distribution\")\n",
    "plt.show()\n",
    "\n",
    "# scatter plot of Show-up Rate V.S. Age\n",
    "plt.figure(figsize=(10,5))\n",
    "sns.regplot(x=\"Age\", y=\"Showup_Rate\", data=age_showup_rate, fit_reg=False)\n",
    "plt.ylim(0.6,1)\n",
    "plt.plot([14, 14], [1, 0], linewidth=3)\n",
    "plt.plot([65, 65], [1, 0], linewidth=3)\n",
    "plt.title(\"Show-up Rate V.S. Age\")\n",
    "plt.xlabel('Age')\n",
    "plt.ylabel('Show-up Rate')\n",
    "plt.show()"
   ]
  },
  {
   "cell_type": "markdown",
   "metadata": {
    "collapsed": true
   },
   "source": [
    "From the above Boxplot we can see that the Median Age is around 35 and the IQR is between 18 and 55. Though the BoxPlot shows few datapoints as outliers we will not consider them as true outliers for this case.\n",
    "\n",
    "The Scatter plot of Show-up Rate V.S. Age shows an obvious piecewise relationship.\n",
    "\n",
    "- Age 0-14: negatively related between Age and Show-up Rate\n",
    "- Age 15-65: positively related between Age and Show-up Rate\n",
    "- Age above 65: no clear relationship"
   ]
  },
  {
   "cell_type": "markdown",
   "metadata": {},
   "source": [
    "#### Exploring on \"Gender\"<a id=\"ML3-5\"></a>"
   ]
  },
  {
   "cell_type": "code",
   "execution_count": 109,
   "metadata": {},
   "outputs": [
    {
     "data": {
      "image/png": "[encoded data removed]",
      "text/plain": [
       "<Figure size 432x288 with 1 Axes>"
      ]
     },
     "metadata": {},
     "output_type": "display_data"
    },
    {
     "data": {
      "image/png": "[encoded data removed]",
      "text/plain": [
       "<Figure size 432x288 with 1 Axes>"
      ]
     },
     "metadata": {},
     "output_type": "display_data"
    }
   ],
   "source": [
    "# plot Show/NoShow for Females and Males\n",
    "sns.countplot(x=\"Gender\", hue=\"Status\", data=data).set_xticklabels(['Female', 'Male'])\n",
    "plt.title(\"Show/NoShow for Females and Males\")\n",
    "plt.ylabel(\"Count\")\n",
    "plt.show()\n",
    "\n",
    "# plot Show-up Rate V.S. Gender\n",
    "sns.barplot(x=\"Gender\", y=\"Status\", data=dummy_analysis).set_xticklabels(['Female', 'Male'])\n",
    "plt.title('Show-up Rate V.S. Gender')\n",
    "plt.ylabel(\"Show-up Rate\")\n",
    "plt.show()"
   ]
  },
  {
   "cell_type": "markdown",
   "metadata": {
    "collapsed": true
   },
   "source": [
    "From the above visualization we can clearly see that 'Female' patients usually have more appointments that 'Male' patients. So, Gender might be an important factor. But if we closely look at the NoShow distribution across Male's and Female's it is almost the same. So, Gender may not play an important role in determining if a patient comes for a visit or not."
   ]
  },
  {
   "cell_type": "markdown",
   "metadata": {},
   "source": [
    "#### Exploring on \"PatientId\"<a id=\"ML3-6\"></a>"
   ]
  },
  {
   "cell_type": "code",
   "execution_count": 16,
   "metadata": {},
   "outputs": [
    {
     "data": {
      "text/html": [
       "<div>\n",
       "<style scoped>\n",
       "    .dataframe tbody tr th:only-of-type {\n",
       "        vertical-align: middle;\n",
       "    }\n",
       "\n",
       "    .dataframe tbody tr th {\n",
       "        vertical-align: top;\n",
       "    }\n",
       "\n",
       "    .dataframe thead th {\n",
       "        text-align: right;\n",
       "    }\n",
       "</style>\n",
       "<table border=\"1\" class=\"dataframe\">\n",
       "  <thead>\n",
       "    <tr style=\"text-align: right;\">\n",
       "      <th></th>\n",
       "      <th>Frequency</th>\n",
       "      <th>Patient_cnt</th>\n",
       "      <th>Avg_rate</th>\n",
       "    </tr>\n",
       "  </thead>\n",
       "  <tbody>\n",
       "    <tr>\n",
       "      <th>0</th>\n",
       "      <td>1</td>\n",
       "      <td>37920</td>\n",
       "      <td>0.812263</td>\n",
       "    </tr>\n",
       "    <tr>\n",
       "      <th>1</th>\n",
       "      <td>2</td>\n",
       "      <td>13895</td>\n",
       "      <td>0.793091</td>\n",
       "    </tr>\n",
       "    <tr>\n",
       "      <th>2</th>\n",
       "      <td>3</td>\n",
       "      <td>5499</td>\n",
       "      <td>0.790932</td>\n",
       "    </tr>\n",
       "    <tr>\n",
       "      <th>3</th>\n",
       "      <td>4</td>\n",
       "      <td>2369</td>\n",
       "      <td>0.778388</td>\n",
       "    </tr>\n",
       "    <tr>\n",
       "      <th>4</th>\n",
       "      <td>5</td>\n",
       "      <td>1117</td>\n",
       "      <td>0.787287</td>\n",
       "    </tr>\n",
       "  </tbody>\n",
       "</table>\n",
       "</div>"
      ],
      "text/plain": [
       "   Frequency  Patient_cnt  Avg_rate\n",
       "0          1        37920  0.812263\n",
       "1          2        13895  0.793091\n",
       "2          3         5499  0.790932\n",
       "3          4         2369  0.778388\n",
       "4          5         1117  0.787287"
      ]
     },
     "execution_count": 16,
     "metadata": {},
     "output_type": "execute_result"
    }
   ],
   "source": [
    "# count patient repeat frequency and their show-up rate\n",
    "patient_count = dummy_analysis.groupby(['PatientId']).Status.count()\n",
    "patient_count.name = 'Frequency'\n",
    "patient_mean = dummy_analysis.groupby(['PatientId']).Status.mean()\n",
    "patient_mean.name = 'Showup_Rate'\n",
    "patient_analysis = pd.concat([patient_count, patient_mean], axis=1).reset_index()\n",
    "\n",
    "# count number of patients in each frequency group and get corresponding show-up rate\n",
    "freq_showup_rate = patient_analysis.groupby(['Frequency']).Showup_Rate.mean()\n",
    "freq_showup_rate.name = \"Avg_rate\"\n",
    "freq_cnt = patient_analysis.groupby(['Frequency']).Frequency.count()\n",
    "freq_cnt.name = \"Patient_cnt\"\n",
    "patient_anal = pd.concat([freq_cnt, freq_showup_rate], axis=1).reset_index()\n",
    "patient_anal.head()"
   ]
  },
  {
   "cell_type": "code",
   "execution_count": 17,
   "metadata": {},
   "outputs": [],
   "source": [
    "# log transform\n",
    "patient_anal_vis = patient_anal.copy()\n",
    "patient_anal_vis.Patient_cnt = np.log(1 + patient_anal_vis.Patient_cnt) * 50"
   ]
  },
  {
   "cell_type": "code",
   "execution_count": 18,
   "metadata": {},
   "outputs": [
    {
     "data": {
      "image/png": "[encoded data removed]",
      "text/plain": [
       "<Figure size 1152x432 with 1 Axes>"
      ]
     },
     "metadata": {},
     "output_type": "display_data"
    },
    {
     "data": {
      "text/html": [
       "<div>\n",
       "<style scoped>\n",
       "    .dataframe tbody tr th:only-of-type {\n",
       "        vertical-align: middle;\n",
       "    }\n",
       "\n",
       "    .dataframe tbody tr th {\n",
       "        vertical-align: top;\n",
       "    }\n",
       "\n",
       "    .dataframe thead th {\n",
       "        text-align: right;\n",
       "    }\n",
       "</style>\n",
       "<table border=\"1\" class=\"dataframe\">\n",
       "  <thead>\n",
       "    <tr style=\"text-align: right;\">\n",
       "      <th></th>\n",
       "      <th>Frequency</th>\n",
       "      <th>Patient_cnt</th>\n",
       "      <th>Avg_rate</th>\n",
       "    </tr>\n",
       "  </thead>\n",
       "  <tbody>\n",
       "    <tr>\n",
       "      <th>0</th>\n",
       "      <td>1</td>\n",
       "      <td>37920</td>\n",
       "      <td>0.812263</td>\n",
       "    </tr>\n",
       "    <tr>\n",
       "      <th>1</th>\n",
       "      <td>2</td>\n",
       "      <td>13895</td>\n",
       "      <td>0.793091</td>\n",
       "    </tr>\n",
       "    <tr>\n",
       "      <th>2</th>\n",
       "      <td>3</td>\n",
       "      <td>5499</td>\n",
       "      <td>0.790932</td>\n",
       "    </tr>\n",
       "    <tr>\n",
       "      <th>3</th>\n",
       "      <td>4</td>\n",
       "      <td>2369</td>\n",
       "      <td>0.778388</td>\n",
       "    </tr>\n",
       "    <tr>\n",
       "      <th>4</th>\n",
       "      <td>5</td>\n",
       "      <td>1117</td>\n",
       "      <td>0.787287</td>\n",
       "    </tr>\n",
       "  </tbody>\n",
       "</table>\n",
       "</div>"
      ],
      "text/plain": [
       "   Frequency  Patient_cnt  Avg_rate\n",
       "0          1        37920  0.812263\n",
       "1          2        13895  0.793091\n",
       "2          3         5499  0.790932\n",
       "3          4         2369  0.778388\n",
       "4          5         1117  0.787287"
      ]
     },
     "execution_count": 18,
     "metadata": {},
     "output_type": "execute_result"
    }
   ],
   "source": [
    "plt.figure(figsize=(16, 6))\n",
    "plt.scatter(x=\"Frequency\", y=\"Avg_rate\", s=\"Patient_cnt\", alpha = 0.8, data=patient_anal_vis) \n",
    "\n",
    "# Adapt the ticks on x-axis and y-axis\n",
    "plt.xticks(np.arange(0, 100, 5))\n",
    "plt.yticks(np.arange(0.5, 1.05, 0.1))\n",
    "\n",
    "# labels\n",
    "plt.xlabel('Frequency')\n",
    "plt.ylabel('Show-up Rate')\n",
    "plt.title('Show-up Rate V.S. Frequency')\n",
    "\n",
    "# Additional customizations\n",
    "plt.text(1, 0.95, '* Log transformed data size', size = 13)\n",
    "\n",
    "# Add grid() call\n",
    "plt.grid(True)\n",
    "\n",
    "# Show plot\n",
    "plt.show()\n",
    "\n",
    "# stats\n",
    "patient_anal.head(5)"
   ]
  },
  {
   "cell_type": "markdown",
   "metadata": {},
   "source": [
    "According to the distribution of Show-up Rate of Repeat Patients, we can see that majority of repeat patients went for their scheduled appoinments."
   ]
  },
  {
   "cell_type": "markdown",
   "metadata": {},
   "source": [
    "#### - Define \"credit\" patient"
   ]
  },
  {
   "cell_type": "code",
   "execution_count": 113,
   "metadata": {},
   "outputs": [
    {
     "data": {
      "text/html": [
       "<div>\n",
       "<style scoped>\n",
       "    .dataframe tbody tr th:only-of-type {\n",
       "        vertical-align: middle;\n",
       "    }\n",
       "\n",
       "    .dataframe tbody tr th {\n",
       "        vertical-align: top;\n",
       "    }\n",
       "\n",
       "    .dataframe thead th {\n",
       "        text-align: right;\n",
       "    }\n",
       "</style>\n",
       "<table border=\"1\" class=\"dataframe\">\n",
       "  <thead>\n",
       "    <tr style=\"text-align: right;\">\n",
       "      <th></th>\n",
       "      <th>PatientId</th>\n",
       "      <th>Frequency</th>\n",
       "      <th>Showup_Rate</th>\n",
       "    </tr>\n",
       "  </thead>\n",
       "  <tbody>\n",
       "    <tr>\n",
       "      <th>0</th>\n",
       "      <td>39218</td>\n",
       "      <td>1</td>\n",
       "      <td>1.0</td>\n",
       "    </tr>\n",
       "    <tr>\n",
       "      <th>1</th>\n",
       "      <td>43742</td>\n",
       "      <td>1</td>\n",
       "      <td>1.0</td>\n",
       "    </tr>\n",
       "    <tr>\n",
       "      <th>2</th>\n",
       "      <td>93780</td>\n",
       "      <td>1</td>\n",
       "      <td>1.0</td>\n",
       "    </tr>\n",
       "    <tr>\n",
       "      <th>3</th>\n",
       "      <td>141724</td>\n",
       "      <td>1</td>\n",
       "      <td>1.0</td>\n",
       "    </tr>\n",
       "    <tr>\n",
       "      <th>4</th>\n",
       "      <td>537615</td>\n",
       "      <td>1</td>\n",
       "      <td>1.0</td>\n",
       "    </tr>\n",
       "  </tbody>\n",
       "</table>\n",
       "</div>"
      ],
      "text/plain": [
       "   PatientId  Frequency  Showup_Rate\n",
       "0      39218          1          1.0\n",
       "1      43742          1          1.0\n",
       "2      93780          1          1.0\n",
       "3     141724          1          1.0\n",
       "4     537615          1          1.0"
      ]
     },
     "execution_count": 113,
     "metadata": {},
     "output_type": "execute_result"
    }
   ],
   "source": [
    "patient_analysis.head()"
   ]
  },
  {
   "cell_type": "code",
   "execution_count": 19,
   "metadata": {},
   "outputs": [
    {
     "data": {
      "text/plain": [
       "14645"
      ]
     },
     "execution_count": 19,
     "metadata": {},
     "output_type": "execute_result"
    }
   ],
   "source": [
    "# Define \"credit\" patient\n",
    "from pandasql import sqldf\n",
    "\n",
    "q = \"\"\"\n",
    "SELECT PatientId\n",
    "FROM patient_analysis \n",
    "WHERE Showup_Rate >= 0.8\n",
    "AND Frequency >= 2\n",
    "\"\"\"\n",
    "\n",
    "credit_patient = sqldf(q)\n",
    "len(credit_patient)"
   ]
  },
  {
   "cell_type": "code",
   "execution_count": 20,
   "metadata": {},
   "outputs": [
    {
     "data": {
      "text/html": [
       "<div>\n",
       "<style scoped>\n",
       "    .dataframe tbody tr th:only-of-type {\n",
       "        vertical-align: middle;\n",
       "    }\n",
       "\n",
       "    .dataframe tbody tr th {\n",
       "        vertical-align: top;\n",
       "    }\n",
       "\n",
       "    .dataframe thead th {\n",
       "        text-align: right;\n",
       "    }\n",
       "</style>\n",
       "<table border=\"1\" class=\"dataframe\">\n",
       "  <thead>\n",
       "    <tr style=\"text-align: right;\">\n",
       "      <th></th>\n",
       "      <th>level_0</th>\n",
       "      <th>index</th>\n",
       "      <th>PatientId</th>\n",
       "      <th>AppointmentID</th>\n",
       "      <th>Gender</th>\n",
       "      <th>ScheduledDay</th>\n",
       "      <th>AppointmentDay</th>\n",
       "      <th>Age</th>\n",
       "      <th>Neighbourhood</th>\n",
       "      <th>Scholarship</th>\n",
       "      <th>...</th>\n",
       "      <th>ScheduledDay_Date</th>\n",
       "      <th>ScheduledDay_Month</th>\n",
       "      <th>ScheduledDay_Weekday</th>\n",
       "      <th>AppointmentDay_Date</th>\n",
       "      <th>AppointmentDay_Month</th>\n",
       "      <th>AppointmentDay_Weekday</th>\n",
       "      <th>Awaiting_Days</th>\n",
       "      <th>If_ScheduledMonth56</th>\n",
       "      <th>If_0Await</th>\n",
       "      <th>If_Credit_Patient</th>\n",
       "    </tr>\n",
       "  </thead>\n",
       "  <tbody>\n",
       "    <tr>\n",
       "      <th>0</th>\n",
       "      <td>0</td>\n",
       "      <td>0</td>\n",
       "      <td>1002280616</td>\n",
       "      <td>5642903</td>\n",
       "      <td>F</td>\n",
       "      <td>2016-04-29T18:38:08Z</td>\n",
       "      <td>2016-04-29T00:00:00Z</td>\n",
       "      <td>62</td>\n",
       "      <td>JARDIM DA PENHA</td>\n",
       "      <td>0</td>\n",
       "      <td>...</td>\n",
       "      <td>2016-04-29</td>\n",
       "      <td>4</td>\n",
       "      <td>4</td>\n",
       "      <td>2016-04-29</td>\n",
       "      <td>4</td>\n",
       "      <td>4</td>\n",
       "      <td>0</td>\n",
       "      <td>0</td>\n",
       "      <td>1</td>\n",
       "      <td>1</td>\n",
       "    </tr>\n",
       "    <tr>\n",
       "      <th>1</th>\n",
       "      <td>1</td>\n",
       "      <td>1</td>\n",
       "      <td>-806814554</td>\n",
       "      <td>5642503</td>\n",
       "      <td>M</td>\n",
       "      <td>2016-04-29T16:08:27Z</td>\n",
       "      <td>2016-04-29T00:00:00Z</td>\n",
       "      <td>56</td>\n",
       "      <td>JARDIM DA PENHA</td>\n",
       "      <td>0</td>\n",
       "      <td>...</td>\n",
       "      <td>2016-04-29</td>\n",
       "      <td>4</td>\n",
       "      <td>4</td>\n",
       "      <td>2016-04-29</td>\n",
       "      <td>4</td>\n",
       "      <td>4</td>\n",
       "      <td>0</td>\n",
       "      <td>0</td>\n",
       "      <td>1</td>\n",
       "      <td>1</td>\n",
       "    </tr>\n",
       "    <tr>\n",
       "      <th>2</th>\n",
       "      <td>2</td>\n",
       "      <td>2</td>\n",
       "      <td>-1940224977</td>\n",
       "      <td>5642549</td>\n",
       "      <td>F</td>\n",
       "      <td>2016-04-29T16:19:04Z</td>\n",
       "      <td>2016-04-29T00:00:00Z</td>\n",
       "      <td>62</td>\n",
       "      <td>MATA DA PRAIA</td>\n",
       "      <td>0</td>\n",
       "      <td>...</td>\n",
       "      <td>2016-04-29</td>\n",
       "      <td>4</td>\n",
       "      <td>4</td>\n",
       "      <td>2016-04-29</td>\n",
       "      <td>4</td>\n",
       "      <td>4</td>\n",
       "      <td>0</td>\n",
       "      <td>0</td>\n",
       "      <td>1</td>\n",
       "      <td>1</td>\n",
       "    </tr>\n",
       "    <tr>\n",
       "      <th>3</th>\n",
       "      <td>3</td>\n",
       "      <td>3</td>\n",
       "      <td>367819382</td>\n",
       "      <td>5642828</td>\n",
       "      <td>F</td>\n",
       "      <td>2016-04-29T17:29:31Z</td>\n",
       "      <td>2016-04-29T00:00:00Z</td>\n",
       "      <td>8</td>\n",
       "      <td>PONTAL DE CAMBURI</td>\n",
       "      <td>0</td>\n",
       "      <td>...</td>\n",
       "      <td>2016-04-29</td>\n",
       "      <td>4</td>\n",
       "      <td>4</td>\n",
       "      <td>2016-04-29</td>\n",
       "      <td>4</td>\n",
       "      <td>4</td>\n",
       "      <td>0</td>\n",
       "      <td>0</td>\n",
       "      <td>1</td>\n",
       "      <td>0</td>\n",
       "    </tr>\n",
       "    <tr>\n",
       "      <th>4</th>\n",
       "      <td>4</td>\n",
       "      <td>4</td>\n",
       "      <td>2143753015</td>\n",
       "      <td>5642494</td>\n",
       "      <td>F</td>\n",
       "      <td>2016-04-29T16:07:23Z</td>\n",
       "      <td>2016-04-29T00:00:00Z</td>\n",
       "      <td>56</td>\n",
       "      <td>JARDIM DA PENHA</td>\n",
       "      <td>0</td>\n",
       "      <td>...</td>\n",
       "      <td>2016-04-29</td>\n",
       "      <td>4</td>\n",
       "      <td>4</td>\n",
       "      <td>2016-04-29</td>\n",
       "      <td>4</td>\n",
       "      <td>4</td>\n",
       "      <td>0</td>\n",
       "      <td>0</td>\n",
       "      <td>1</td>\n",
       "      <td>0</td>\n",
       "    </tr>\n",
       "  </tbody>\n",
       "</table>\n",
       "<p>5 rows × 27 columns</p>\n",
       "</div>"
      ],
      "text/plain": [
       "   level_0  index   PatientId  AppointmentID Gender          ScheduledDay  \\\n",
       "0        0      0  1002280616        5642903      F  2016-04-29T18:38:08Z   \n",
       "1        1      1  -806814554        5642503      M  2016-04-29T16:08:27Z   \n",
       "2        2      2 -1940224977        5642549      F  2016-04-29T16:19:04Z   \n",
       "3        3      3   367819382        5642828      F  2016-04-29T17:29:31Z   \n",
       "4        4      4  2143753015        5642494      F  2016-04-29T16:07:23Z   \n",
       "\n",
       "         AppointmentDay  Age      Neighbourhood  Scholarship  ...  \\\n",
       "0  2016-04-29T00:00:00Z   62    JARDIM DA PENHA            0  ...   \n",
       "1  2016-04-29T00:00:00Z   56    JARDIM DA PENHA            0  ...   \n",
       "2  2016-04-29T00:00:00Z   62      MATA DA PRAIA            0  ...   \n",
       "3  2016-04-29T00:00:00Z    8  PONTAL DE CAMBURI            0  ...   \n",
       "4  2016-04-29T00:00:00Z   56    JARDIM DA PENHA            0  ...   \n",
       "\n",
       "   ScheduledDay_Date  ScheduledDay_Month  ScheduledDay_Weekday  \\\n",
       "0         2016-04-29                   4                     4   \n",
       "1         2016-04-29                   4                     4   \n",
       "2         2016-04-29                   4                     4   \n",
       "3         2016-04-29                   4                     4   \n",
       "4         2016-04-29                   4                     4   \n",
       "\n",
       "   AppointmentDay_Date  AppointmentDay_Month AppointmentDay_Weekday  \\\n",
       "0           2016-04-29                     4                      4   \n",
       "1           2016-04-29                     4                      4   \n",
       "2           2016-04-29                     4                      4   \n",
       "3           2016-04-29                     4                      4   \n",
       "4           2016-04-29                     4                      4   \n",
       "\n",
       "   Awaiting_Days If_ScheduledMonth56 If_0Await  If_Credit_Patient  \n",
       "0              0                   0         1                  1  \n",
       "1              0                   0         1                  1  \n",
       "2              0                   0         1                  1  \n",
       "3              0                   0         1                  0  \n",
       "4              0                   0         1                  0  \n",
       "\n",
       "[5 rows x 27 columns]"
      ]
     },
     "execution_count": 20,
     "metadata": {},
     "output_type": "execute_result"
    }
   ],
   "source": [
    "# create a binary variable \"If_Credit_Patient\"\n",
    "data['If_Credit_Patient'] = data.PatientId.isin(credit_patient.PatientId).astype(int)\n",
    "data.head()"
   ]
  },
  {
   "cell_type": "markdown",
   "metadata": {},
   "source": [
    "## 4. Building Models on Imbalanced Data<a id=\"ML4\"></a>"
   ]
  },
  {
   "cell_type": "markdown",
   "metadata": {},
   "source": [
    "From the EDA we see that there are around 80% of the patients who have turned up. We see a clear class imbalance problem here. A naive approach of predicting that every one shows up gives us an accuracy of 0.8. Below we shall see how well the classifiers score on this dataset."
   ]
  },
  {
   "cell_type": "markdown",
   "metadata": {},
   "source": [
    "### Transforming the Data Set<a id=\"ML4-1\"></a>"
   ]
  },
  {
   "cell_type": "markdown",
   "metadata": {},
   "source": [
    "In order to test how well a ML model can predict the 'No-show' patients,\n",
    "I set 'No-show' as positive class (1), 'Show-up' as negative class (0)."
   ]
  },
  {
   "cell_type": "code",
   "execution_count": 21,
   "metadata": {},
   "outputs": [],
   "source": [
    "# transfrom category variables\n",
    "le = preprocessing.LabelEncoder()\n",
    "\n",
    "data.Status = (data.Status == 'No-show').astype(int)\n",
    "\n",
    "data.Gender = le.fit_transform(data.Gender)\n",
    "data.Neighbourhood = le.fit_transform(data.Neighbourhood)"
   ]
  },
  {
   "cell_type": "markdown",
   "metadata": {},
   "source": [
    "### Define Feature Matrix and Target Array<a id=\"ML4-2\"></a>"
   ]
  },
  {
   "cell_type": "markdown",
   "metadata": {},
   "source": [
    "According to analysis result from EDA and after some features tuning, I selected below attributes as the predictors."
   ]
  },
  {
   "cell_type": "code",
   "execution_count": 22,
   "metadata": {},
   "outputs": [],
   "source": [
    "# select attributes for machine learning models\n",
    "X = data.loc[:,['If_Credit_Patient', 'Gender', \"Age\", 'Scholarship', 'Hipertension', 'Diabetes', 'Handcap', \"Neighbourhood\", \"ScheduledDay_Month\", \"Awaiting_Days\", \"Handicap\", \"If_0Await\", \"If_ScheduledMonth56\"]]\n",
    "y = data['Status']"
   ]
  },
  {
   "cell_type": "code",
   "execution_count": 23,
   "metadata": {},
   "outputs": [
    {
     "data": {
      "text/html": [
       "<div>\n",
       "<style scoped>\n",
       "    .dataframe tbody tr th:only-of-type {\n",
       "        vertical-align: middle;\n",
       "    }\n",
       "\n",
       "    .dataframe tbody tr th {\n",
       "        vertical-align: top;\n",
       "    }\n",
       "\n",
       "    .dataframe thead th {\n",
       "        text-align: right;\n",
       "    }\n",
       "</style>\n",
       "<table border=\"1\" class=\"dataframe\">\n",
       "  <thead>\n",
       "    <tr style=\"text-align: right;\">\n",
       "      <th></th>\n",
       "      <th>If_Credit_Patient</th>\n",
       "      <th>Gender</th>\n",
       "      <th>Age</th>\n",
       "      <th>Scholarship</th>\n",
       "      <th>Hipertension</th>\n",
       "      <th>Diabetes</th>\n",
       "      <th>Handcap</th>\n",
       "      <th>Neighbourhood</th>\n",
       "      <th>ScheduledDay_Month</th>\n",
       "      <th>Awaiting_Days</th>\n",
       "      <th>Handicap</th>\n",
       "      <th>If_0Await</th>\n",
       "      <th>If_ScheduledMonth56</th>\n",
       "      <th>Status</th>\n",
       "    </tr>\n",
       "  </thead>\n",
       "  <tbody>\n",
       "    <tr>\n",
       "      <th>0</th>\n",
       "      <td>1</td>\n",
       "      <td>0</td>\n",
       "      <td>62</td>\n",
       "      <td>0</td>\n",
       "      <td>1</td>\n",
       "      <td>0</td>\n",
       "      <td>0</td>\n",
       "      <td>39</td>\n",
       "      <td>5</td>\n",
       "      <td>0</td>\n",
       "      <td>0</td>\n",
       "      <td>1</td>\n",
       "      <td>0</td>\n",
       "      <td>0</td>\n",
       "    </tr>\n",
       "    <tr>\n",
       "      <th>1</th>\n",
       "      <td>1</td>\n",
       "      <td>1</td>\n",
       "      <td>56</td>\n",
       "      <td>0</td>\n",
       "      <td>0</td>\n",
       "      <td>0</td>\n",
       "      <td>0</td>\n",
       "      <td>39</td>\n",
       "      <td>5</td>\n",
       "      <td>0</td>\n",
       "      <td>0</td>\n",
       "      <td>1</td>\n",
       "      <td>0</td>\n",
       "      <td>0</td>\n",
       "    </tr>\n",
       "    <tr>\n",
       "      <th>2</th>\n",
       "      <td>1</td>\n",
       "      <td>0</td>\n",
       "      <td>62</td>\n",
       "      <td>0</td>\n",
       "      <td>0</td>\n",
       "      <td>0</td>\n",
       "      <td>0</td>\n",
       "      <td>45</td>\n",
       "      <td>5</td>\n",
       "      <td>0</td>\n",
       "      <td>0</td>\n",
       "      <td>1</td>\n",
       "      <td>0</td>\n",
       "      <td>0</td>\n",
       "    </tr>\n",
       "    <tr>\n",
       "      <th>3</th>\n",
       "      <td>0</td>\n",
       "      <td>0</td>\n",
       "      <td>8</td>\n",
       "      <td>0</td>\n",
       "      <td>0</td>\n",
       "      <td>0</td>\n",
       "      <td>0</td>\n",
       "      <td>54</td>\n",
       "      <td>5</td>\n",
       "      <td>0</td>\n",
       "      <td>0</td>\n",
       "      <td>1</td>\n",
       "      <td>0</td>\n",
       "      <td>0</td>\n",
       "    </tr>\n",
       "    <tr>\n",
       "      <th>4</th>\n",
       "      <td>0</td>\n",
       "      <td>0</td>\n",
       "      <td>56</td>\n",
       "      <td>0</td>\n",
       "      <td>1</td>\n",
       "      <td>1</td>\n",
       "      <td>0</td>\n",
       "      <td>39</td>\n",
       "      <td>5</td>\n",
       "      <td>0</td>\n",
       "      <td>0</td>\n",
       "      <td>1</td>\n",
       "      <td>0</td>\n",
       "      <td>0</td>\n",
       "    </tr>\n",
       "  </tbody>\n",
       "</table>\n",
       "</div>"
      ],
      "text/plain": [
       "   If_Credit_Patient  Gender  Age  Scholarship  Hipertension  Diabetes  \\\n",
       "0                  1       0   62            0             1         0   \n",
       "1                  1       1   56            0             0         0   \n",
       "2                  1       0   62            0             0         0   \n",
       "3                  0       0    8            0             0         0   \n",
       "4                  0       0   56            0             1         1   \n",
       "\n",
       "   Handcap  Neighbourhood  ScheduledDay_Month  Awaiting_Days  Handicap  \\\n",
       "0        0             39                   5              0         0   \n",
       "1        0             39                   5              0         0   \n",
       "2        0             45                   5              0         0   \n",
       "3        0             54                   5              0         0   \n",
       "4        0             39                   5              0         0   \n",
       "\n",
       "   If_0Await  If_ScheduledMonth56  Status  \n",
       "0          1                    0       0  \n",
       "1          1                    0       0  \n",
       "2          1                    0       0  \n",
       "3          1                    0       0  \n",
       "4          1                    0       0  "
      ]
     },
     "execution_count": 23,
     "metadata": {},
     "output_type": "execute_result"
    }
   ],
   "source": [
    "# display feature matrix and target array\n",
    "pd.concat([X,y], axis=1).rename({\"0\":\"Status\"}).head()"
   ]
  },
  {
   "cell_type": "markdown",
   "metadata": {},
   "source": [
    "### Prepare Data for Model Training<a id=\"ML4-3\"></a>"
   ]
  },
  {
   "cell_type": "code",
   "execution_count": 24,
   "metadata": {},
   "outputs": [],
   "source": [
    "# test - perform grid search on randomforest\n",
    "X_train, X_test, y_train, y_test = train_test_split(X, y, test_size=0.2)"
   ]
  },
  {
   "cell_type": "markdown",
   "metadata": {},
   "source": [
    "In data preparation, I randomly selected 5000 data from model data set to create a smaller data set for gridsearch. I also created train and test data by splitting the model data set to 80-20."
   ]
  },
  {
   "cell_type": "code",
   "execution_count": 25,
   "metadata": {},
   "outputs": [],
   "source": [
    "# perform gridsearch on a smaller sampled dataset(otherwise it takes forever to run)\n",
    "random_index = random.sample(list(range(len(data))), 5000)\n",
    "X = X.values\n",
    "y = y.values\n",
    "\n",
    "# split data set to train and test(80-20)\n",
    "X_train, X_test, y_train, y_test = train_test_split(X, y, test_size=0.2)"
   ]
  },
  {
   "cell_type": "markdown",
   "metadata": {},
   "source": [
    "### Train Model - Logistic Regression<a id=\"ML4-4\"></a>"
   ]
  },
  {
   "cell_type": "markdown",
   "metadata": {},
   "source": [
    "I followed below steps to assess the model(logistic regression) on imbalanced data set:\n",
    "1. perform grid search on a selected sample dataset\n",
    "2. perform cross validation on model with parameters calculated from grid search\n",
    "3. calculate accuracy score from Train-Test Split(80-20)\n",
    "4. calculate precision score (What percentage of 'No-show' instances has been correctly predicted in total **predicted** 'No-show' instances)\n",
    "5. calculate recall score (What percentage of 'No-show' instances has been correctly predicted in total **true** 'No-show' instances)\n",
    "6. calculate F1 score\n",
    "7. calculate accuracy of positive/negative class (What percentage of 'No-show'/'Show-up' have been correctly predicted in their own **true** class instances)"
   ]
  },
  {
   "cell_type": "code",
   "execution_count": 26,
   "metadata": {},
   "outputs": [
    {
     "name": "stdout",
     "output_type": "stream",
     "text": [
      "{'C': 10, 'penalty': 'l2'}\n"
     ]
    }
   ],
   "source": [
    "# Grid Search on selected sample dataset\n",
    "param_grid = {\"penalty\": ['l1', 'l2']\n",
    "              ,\"C\" : [0.01, 0.1, 1, 10, 100]}\n",
    "\n",
    "clf_log = LogisticRegression()\n",
    "clf_log = GridSearchCV(clf_log, param_grid, cv=5, scoring='accuracy')\n",
    "clf_log.fit(X[random_index], y[random_index])\n",
    "print(clf_log.best_params_)"
   ]
  },
  {
   "cell_type": "code",
   "execution_count": 27,
   "metadata": {},
   "outputs": [
    {
     "name": "stdout",
     "output_type": "stream",
     "text": [
      " Cross validation scores: [0.80180955 0.79487875 0.79157619 0.79768368 0.79890518]\n",
      " Average score: 0.7969706676660753\n"
     ]
    }
   ],
   "source": [
    "# Perform cross validation on Logistic Regression model with parameters calculated from Grid Search\n",
    "log = clf_log.best_estimator_\n",
    "log.fit(X, y)\n",
    "CVscore = cross_val_score(log, X, y, cv=5)\n",
    "log_CVscore = CVscore.mean()\n",
    "print(f' Cross validation scores: {CVscore}')\n",
    "print(f' Average score: {log_CVscore}')"
   ]
  },
  {
   "cell_type": "code",
   "execution_count": 28,
   "metadata": {},
   "outputs": [
    {
     "name": "stdout",
     "output_type": "stream",
     "text": [
      " Train-Test Split(80-20) accuracy score: 0.7980547387468898\n",
      " Precision score: 0.5166666666666667\n",
      " Recall score: 0.08975501113585746\n",
      " F1 score: 0.15294117647058822\n",
      " Accuracy of positive class: 0.08975501113585746\n",
      " Accuracy of negative class: 0.9785977859778597\n"
     ]
    }
   ],
   "source": [
    "# Feed Logistic Regression model\n",
    "log = clf_log.best_estimator_\n",
    "log.fit(X_train, y_train)\n",
    "y_pred = log.predict(X_test)\n",
    "\n",
    "# Accuracy score from Train-Test Split(80-20)\n",
    "log_score = accuracy_score(y_pred, y_test)\n",
    "print(f' Train-Test Split(80-20) accuracy score: {log_score}')\n",
    "\n",
    "# Precision score\n",
    "log_precision_score = precision_score(y_test, y_pred)\n",
    "print(f' Precision score: {log_precision_score}')\n",
    "\n",
    "# Recall score\n",
    "log_recall_score = recall_score(y_test, y_pred)\n",
    "print(f' Recall score: {log_recall_score}')\n",
    "\n",
    "# F1 score\n",
    "log_f1 = f1_score(y_test, y_pred)\n",
    "print(f' F1 score: {log_f1}')\n",
    "\n",
    "# Confusion matrix: Accuracy of positive/negative class\n",
    "tn, fp, fn, tp = confusion_matrix(y_test, y_pred).ravel()\n",
    "log_acc_p = tp/(tp+fn)\n",
    "log_acc_n = tn/(tn+fp)\n",
    "print(\" Accuracy of positive class:\",log_acc_p)\n",
    "print(\" Accuracy of negative class:\",log_acc_n)"
   ]
  },
  {
   "cell_type": "markdown",
   "metadata": {},
   "source": [
    "From the above CV and accuracy score we can see that we are doing almost similar to the naive predictor. \n",
    "\n",
    "If you look at the accuracy of positive/negative class, you will find that the model predicted almost all instances to 'Show-up' but few 'No-show'. The precision score of 'No-show' is too low to prove model's ability on predicting 'No-show'.\n",
    "\n",
    "The F1 shows that the model is not good enough on predicting. It maybe even better to just use naive predictor. Therefore, in this case, we are difficult to extract essence from the model."
   ]
  },
  {
   "cell_type": "markdown",
   "metadata": {},
   "source": [
    "## 5. Building Models on Balanced Data<a id=\"ML5\"></a>"
   ]
  },
  {
   "cell_type": "markdown",
   "metadata": {},
   "source": [
    "### Create Balanced Data Set<a id=\"ML5-1\"></a>"
   ]
  },
  {
   "cell_type": "markdown",
   "metadata": {},
   "source": [
    "We can change the dataset that we use to build the predictive model to have more balanced data.\n",
    "\n",
    "This change is called sampling dataset and there are two main methods that we can use to even-up the classes:\n",
    "\n",
    "1. Adding copies of instances from the under-represented class called over-sampling (or more formally sampling with replacement), or\n",
    "2. Deleting instances from the over-represented class, called under-sampling."
   ]
  },
  {
   "cell_type": "markdown",
   "metadata": {},
   "source": [
    "### Prepare Data for Model Training<a id=\"ML5-2\"></a>"
   ]
  },
  {
   "cell_type": "code",
   "execution_count": 29,
   "metadata": {},
   "outputs": [],
   "source": [
    "X_train, X_test, y_train, y_test = train_test_split(X, y, test_size=0.2)"
   ]
  },
  {
   "cell_type": "code",
   "execution_count": 30,
   "metadata": {},
   "outputs": [],
   "source": [
    "# test-what am i doing\n",
    "def ML_LG(X_train, y_train, w0=1, w1=1):\n",
    "    # Feed Logistic Regression model\n",
    "    log = LogisticRegression(class_weight={0: w0, 1: w1})\n",
    "    log.fit(X_train, y_train)\n",
    "    y_pred = log.predict(X_test)\n",
    "\n",
    "    # Accuracy score from Train-Test Split(80-20)\n",
    "    log_score = accuracy_score(y_pred, y_test)\n",
    "    print(f' Train-Test Split(80-20) accuracy score: {log_score}')\n",
    "\n",
    "    # Precision score\n",
    "    log_precision_score = precision_score(y_test, y_pred)\n",
    "    print(f' Precision score: {log_precision_score}')\n",
    "\n",
    "    # Recall score\n",
    "    log_recall_score = recall_score(y_test, y_pred)\n",
    "    print(f' Recall score: {log_recall_score}')\n",
    "\n",
    "    # F1 score\n",
    "    log_f1 = f1_score(y_test, y_pred)\n",
    "    print(f' F1 score: {log_f1}')\n",
    "\n",
    "    # Confusion matrix: Accuracy of positive/negative class\n",
    "    tn, fp, fn, tp = confusion_matrix(y_test, y_pred).ravel()\n",
    "    log_acc_p = tp/(tp+fn)\n",
    "    log_acc_n = tn/(tn+fp)\n",
    "    print(\" Accuracy of positive class:\",log_acc_p)\n",
    "    print(\" Accuracy of negative class:\",log_acc_n)"
   ]
  },
  {
   "cell_type": "code",
   "execution_count": 31,
   "metadata": {},
   "outputs": [
    {
     "name": "stdout",
     "output_type": "stream",
     "text": [
      " Train-Test Split(80-20) accuracy score: 0.7958380456910201\n",
      " Precision score: 0.49570552147239266\n",
      " Recall score: 0.08965823346648913\n",
      " F1 score: 0.15185115579778238\n",
      " Accuracy of positive class: 0.08965823346648913\n",
      " Accuracy of negative class: 0.976646400363657\n"
     ]
    }
   ],
   "source": [
    "#unbalanced performance\n",
    "ML_LG(X_train, y_train)"
   ]
  },
  {
   "cell_type": "markdown",
   "metadata": {},
   "source": [
    "#### Method1: OverSampling-SMOTE"
   ]
  },
  {
   "cell_type": "code",
   "execution_count": 129,
   "metadata": {},
   "outputs": [
    {
     "name": "stdout",
     "output_type": "stream",
     "text": [
      "Number data X_train dataset:  (88416, 13)\n",
      "Number data y_train dataset:  (88416,)\n",
      "Number data X_test dataset:  (22105, 13)\n",
      "Number data y_test dataset:  (22105,)\n"
     ]
    }
   ],
   "source": [
    "print(\"Number data X_train dataset: \", X_train.shape)\n",
    "print(\"Number data y_train dataset: \", y_train.shape)\n",
    "print(\"Number data X_test dataset: \", X_test.shape)\n",
    "print(\"Number data y_test dataset: \", y_test.shape)"
   ]
  },
  {
   "cell_type": "code",
   "execution_count": 130,
   "metadata": {},
   "outputs": [
    {
     "name": "stdout",
     "output_type": "stream",
     "text": [
      "Before OverSampling, counts of label '1': 17826\n",
      "Before OverSampling, counts of label '0': 70590 \n",
      "\n"
     ]
    }
   ],
   "source": [
    "print(\"Before OverSampling, counts of label '1': {}\".format(sum(y_train==1)))\n",
    "print(\"Before OverSampling, counts of label '0': {} \\n\".format(sum(y_train==0)))"
   ]
  },
  {
   "cell_type": "code",
   "execution_count": 30,
   "metadata": {},
   "outputs": [],
   "source": [
    "from imblearn.over_sampling import SMOTE\n",
    "\n",
    "sm = SMOTE(random_state=123)\n",
    "X_train_res, y_train_res = sm.fit_resample(X_train, y_train)"
   ]
  },
  {
   "cell_type": "code",
   "execution_count": 132,
   "metadata": {},
   "outputs": [
    {
     "name": "stdout",
     "output_type": "stream",
     "text": [
      "After OverSampling, the shape of train_X: (141180, 13)\n",
      "After OverSampling, the shape of train_y: (141180,) \n",
      "\n"
     ]
    }
   ],
   "source": [
    "print('After OverSampling, the shape of train_X: {}'.format(X_train_res.shape))\n",
    "print('After OverSampling, the shape of train_y: {} \\n'.format(y_train_res.shape))"
   ]
  },
  {
   "cell_type": "code",
   "execution_count": 133,
   "metadata": {},
   "outputs": [
    {
     "name": "stdout",
     "output_type": "stream",
     "text": [
      "After OverSampling, counts of label '1': 70590\n",
      "After OverSampling, counts of label '0': 70590\n"
     ]
    }
   ],
   "source": [
    "print(\"After OverSampling, counts of label '1': {}\".format(sum(y_train_res==1)))\n",
    "print(\"After OverSampling, counts of label '0': {}\".format(sum(y_train_res==0)))"
   ]
  },
  {
   "cell_type": "code",
   "execution_count": 134,
   "metadata": {},
   "outputs": [
    {
     "name": "stdout",
     "output_type": "stream",
     "text": [
      " Train-Test Split(80-20) accuracy score: 0.7379325944356481\n",
      " Precision score: 0.4262461851475076\n",
      " Recall score: 0.8402406417112299\n",
      " F1 score: 0.5655793025871766\n",
      " Accuracy of positive class: 0.8402406417112299\n",
      " Accuracy of negative class: 0.7118692172333542\n"
     ]
    }
   ],
   "source": [
    "# SMOTE result\n",
    "ML_LG(X_train_res, y_train_res)"
   ]
  },
  {
   "cell_type": "markdown",
   "metadata": {},
   "source": [
    "#### Method2: RandomUnderSampler"
   ]
  },
  {
   "cell_type": "code",
   "execution_count": 135,
   "metadata": {},
   "outputs": [
    {
     "name": "stdout",
     "output_type": "stream",
     "text": [
      "Number data X_train dataset:  (88416, 13)\n",
      "Number data y_train dataset:  (88416,)\n",
      "Number data X_test dataset:  (22105, 13)\n",
      "Number data y_test dataset:  (22105,)\n"
     ]
    }
   ],
   "source": [
    "print(\"Number data X_train dataset: \", X_train.shape)\n",
    "print(\"Number data y_train dataset: \", y_train.shape)\n",
    "print(\"Number data X_test dataset: \", X_test.shape)\n",
    "print(\"Number data y_test dataset: \", y_test.shape)"
   ]
  },
  {
   "cell_type": "code",
   "execution_count": 136,
   "metadata": {},
   "outputs": [
    {
     "name": "stdout",
     "output_type": "stream",
     "text": [
      "Before OverSampling, counts of label '1': 17826\n",
      "Before OverSampling, counts of label '0': 70590 \n",
      "\n"
     ]
    }
   ],
   "source": [
    "print(\"Before OverSampling, counts of label '1': {}\".format(sum(y_train==1)))\n",
    "print(\"Before OverSampling, counts of label '0': {} \\n\".format(sum(y_train==0)))"
   ]
  },
  {
   "cell_type": "code",
   "execution_count": 31,
   "metadata": {},
   "outputs": [],
   "source": [
    "from imblearn.under_sampling import RandomUnderSampler\n",
    "\n",
    "rus = RandomUnderSampler(random_state=123)\n",
    "X_train_res, y_train_res = rus.fit_resample(X_train, y_train)"
   ]
  },
  {
   "cell_type": "code",
   "execution_count": 138,
   "metadata": {},
   "outputs": [
    {
     "name": "stdout",
     "output_type": "stream",
     "text": [
      "After OverSampling, the shape of train_X: (35652, 13)\n",
      "After OverSampling, the shape of train_y: (35652,) \n",
      "\n"
     ]
    }
   ],
   "source": [
    "print('After OverSampling, the shape of train_X: {}'.format(X_train_res.shape))\n",
    "print('After OverSampling, the shape of train_y: {} \\n'.format(y_train_res.shape))"
   ]
  },
  {
   "cell_type": "code",
   "execution_count": 139,
   "metadata": {},
   "outputs": [
    {
     "name": "stdout",
     "output_type": "stream",
     "text": [
      "After OverSampling, counts of label '1': 17826\n",
      "After OverSampling, counts of label '0': 17826\n"
     ]
    }
   ],
   "source": [
    "print(\"After OverSampling, counts of label '1': {}\".format(sum(y_train_res==1)))\n",
    "print(\"After OverSampling, counts of label '0': {}\".format(sum(y_train_res==0)))"
   ]
  },
  {
   "cell_type": "code",
   "execution_count": 140,
   "metadata": {},
   "outputs": [
    {
     "name": "stdout",
     "output_type": "stream",
     "text": [
      " Train-Test Split(80-20) accuracy score: 0.7319158561411445\n",
      " Precision score: 0.42336388829673843\n",
      " Recall score: 0.8850267379679144\n",
      " F1 score: 0.5727469358327326\n",
      " Accuracy of positive class: 0.8850267379679144\n",
      " Accuracy of negative class: 0.6929102571379917\n"
     ]
    }
   ],
   "source": [
    "# RandomUnderSampler result\n",
    "ML_LG(X_train_res, y_train_res)"
   ]
  },
  {
   "cell_type": "markdown",
   "metadata": {},
   "source": [
    "After substituting all the models into the method of balancing data described above, the best performing method of each model was selected"
   ]
  },
  {
   "cell_type": "markdown",
   "metadata": {},
   "source": [
    "### Logistic Regression<a id=\"ML5-3\"></a>"
   ]
  },
  {
   "cell_type": "code",
   "execution_count": 32,
   "metadata": {},
   "outputs": [],
   "source": [
    "# perform gridsearch on a smaller sampled dataset(otherwise it takes forever to run)\n",
    "random_index = random.sample(list(range(len(X))), 5000)"
   ]
  },
  {
   "cell_type": "code",
   "execution_count": 33,
   "metadata": {},
   "outputs": [
    {
     "name": "stdout",
     "output_type": "stream",
     "text": [
      "{'C': 10, 'penalty': 'l2'}\n"
     ]
    }
   ],
   "source": [
    "# Grid Search on selected sample dataset\n",
    "param_grid = {\"penalty\": ['l1', 'l2']\n",
    "              ,\"C\" : [0.01, 0.1, 1, 10, 100]}\n",
    "\n",
    "clf_log = LogisticRegression()\n",
    "clf_log = GridSearchCV(clf_log, param_grid, cv=5, scoring='accuracy')\n",
    "clf_log.fit(X[random_index], y[random_index])\n",
    "print(clf_log.best_params_)"
   ]
  },
  {
   "cell_type": "code",
   "execution_count": 34,
   "metadata": {},
   "outputs": [],
   "source": [
    "from imblearn.under_sampling import RandomUnderSampler\n",
    "\n",
    "rus = RandomUnderSampler(random_state=123)\n",
    "X_train_res, y_train_res = rus.fit_resample(X_train, y_train)"
   ]
  },
  {
   "cell_type": "code",
   "execution_count": 35,
   "metadata": {},
   "outputs": [
    {
     "name": "stdout",
     "output_type": "stream",
     "text": [
      "After UnderSampling, counts of label '1': 17808\n",
      "After UnderSampling, counts of label '0': 17808\n"
     ]
    }
   ],
   "source": [
    "print(\"After UnderSampling, counts of label '1': {}\".format(sum(y_train_res==1)))\n",
    "print(\"After UnderSampling, counts of label '0': {}\".format(sum(y_train_res==0)))"
   ]
  },
  {
   "cell_type": "code",
   "execution_count": 36,
   "metadata": {},
   "outputs": [
    {
     "name": "stdout",
     "output_type": "stream",
     "text": [
      " Train-Test Split(80-20) accuracy score: 0.7287039131418231\n",
      " Precision score: 0.4210191757601441\n",
      " Recall score: 0.8819351975144252\n",
      " F1 score: 0.5699533883112227\n",
      " Accuracy of positive class: 0.8819351975144252\n",
      " Accuracy of negative class: 0.6894709926700381\n"
     ]
    }
   ],
   "source": [
    "# Feed Logistic Regression model\n",
    "log = clf_log.best_estimator_\n",
    "log.fit(X_train_res, y_train_res)\n",
    "y_pred = log.predict(X_test)\n",
    "\n",
    "# Accuracy score from Train-Test Split(80-20)\n",
    "log_score = accuracy_score(y_pred, y_test)\n",
    "print(f' Train-Test Split(80-20) accuracy score: {log_score}')\n",
    "\n",
    "# Precision score\n",
    "log_precision_score = precision_score(y_test, y_pred)\n",
    "print(f' Precision score: {log_precision_score}')\n",
    "\n",
    "# Recall score\n",
    "log_recall_score = recall_score(y_test, y_pred)\n",
    "print(f' Recall score: {log_recall_score}')\n",
    "\n",
    "# F1 score\n",
    "log_f1 = f1_score(y_test, y_pred)\n",
    "print(f' F1 score: {log_f1}')\n",
    "\n",
    "# Confusion matrix: Accuracy of positive/negative class\n",
    "tn, fp, fn, tp = confusion_matrix(y_test, y_pred).ravel()\n",
    "log_acc_p = tp/(tp+fn)\n",
    "log_acc_n = tn/(tn+fp)\n",
    "print(\" Accuracy of positive class:\",log_acc_p)\n",
    "print(\" Accuracy of negative class:\",log_acc_n)"
   ]
  },
  {
   "cell_type": "markdown",
   "metadata": {},
   "source": [
    "### Random Forest Classifier<a id=\"ML5-5\"></a>"
   ]
  },
  {
   "cell_type": "code",
   "execution_count": 37,
   "metadata": {},
   "outputs": [
    {
     "name": "stdout",
     "output_type": "stream",
     "text": [
      "{'max_depth': 7, 'min_samples_split': 3}\n"
     ]
    }
   ],
   "source": [
    "# Grid Search on selected sample dataset\n",
    "param_grid = {\"max_depth\": list(np.arange(2,11,1))\n",
    "              ,\"min_samples_split\" : list(np.arange(2,21,1))} \n",
    "\n",
    "clf_rf = RandomForestClassifier()\n",
    "clf_rf = GridSearchCV(clf_rf, param_grid, cv=5, scoring='accuracy')\n",
    "clf_rf.fit(X[random_index], y[random_index])\n",
    "print(clf_rf.best_params_)"
   ]
  },
  {
   "cell_type": "code",
   "execution_count": 38,
   "metadata": {},
   "outputs": [],
   "source": [
    "from imblearn.over_sampling import SMOTE\n",
    "\n",
    "sm = SMOTE(random_state=123)\n",
    "X_train_res, y_train_res = sm.fit_resample(X_train, y_train)"
   ]
  },
  {
   "cell_type": "code",
   "execution_count": 39,
   "metadata": {},
   "outputs": [
    {
     "name": "stdout",
     "output_type": "stream",
     "text": [
      "After OverSampling, counts of label '1': 70608\n",
      "After OverSampling, counts of label '0': 70608\n"
     ]
    }
   ],
   "source": [
    "print(\"After OverSampling, counts of label '1': {}\".format(sum(y_train_res==1)))\n",
    "print(\"After OverSampling, counts of label '0': {}\".format(sum(y_train_res==0)))"
   ]
  },
  {
   "cell_type": "code",
   "execution_count": 40,
   "metadata": {},
   "outputs": [
    {
     "name": "stdout",
     "output_type": "stream",
     "text": [
      " Train-Test Split(80-20) accuracy score: 0.7371182990273694\n",
      " Precision score: 0.4267265581134194\n",
      " Recall score: 0.8433200177541056\n",
      " F1 score: 0.5666989784505257\n",
      " Accuracy of positive class: 0.8433200177541056\n",
      " Accuracy of negative class: 0.7099267003807035\n"
     ]
    }
   ],
   "source": [
    "# Perform further validation metrics on RandomForest model with parameters calculated from Grid Search\n",
    "rf = clf_rf.best_estimator_\n",
    "rf.fit(X_train_res, y_train_res)\n",
    "y_pred = rf.predict(X_test)\n",
    "\n",
    "# Accuracy score from Train-Test Split(80-20)\n",
    "rf_score = accuracy_score(y_pred, y_test)\n",
    "print(f' Train-Test Split(80-20) accuracy score: {rf_score}')\n",
    "\n",
    "# Precision score\n",
    "rf_precision_score = precision_score(y_test, y_pred)\n",
    "print(f' Precision score: {rf_precision_score}')\n",
    "\n",
    "# Recall score\n",
    "rf_recall_score = recall_score(y_test, y_pred)\n",
    "print(f' Recall score: {rf_recall_score}')\n",
    "\n",
    "# F1 score\n",
    "rf_f1 = f1_score(y_test, y_pred)\n",
    "print(f' F1 score: {rf_f1}')\n",
    "\n",
    "# Confusion matrix: Accuracy of positive/negative class\n",
    "conf_matrix = confusion_matrix(y_test, y_pred)\n",
    "rf_acc_p = conf_matrix[1,1]/(conf_matrix[1,0]+conf_matrix[1,1])\n",
    "rf_acc_n = conf_matrix[0,0]/(conf_matrix[0,0]+conf_matrix[0,1])\n",
    "print(\" Accuracy of positive class:\",rf_acc_p)\n",
    "print(\" Accuracy of negative class:\",rf_acc_n)"
   ]
  },
  {
   "cell_type": "markdown",
   "metadata": {},
   "source": [
    "### K-Nearest Neighbors Classifier<a id=\"ML5-8\"></a>"
   ]
  },
  {
   "cell_type": "code",
   "execution_count": 41,
   "metadata": {},
   "outputs": [
    {
     "name": "stdout",
     "output_type": "stream",
     "text": [
      "{'leaf_size': 2, 'n_neighbors': 28, 'weights': 'uniform'}\n"
     ]
    }
   ],
   "source": [
    "# Grid Search on selected sample dataset\n",
    "param_grid = {\"n_neighbors\": list(np.arange(2,31,2))\n",
    "              ,\"weights\" : [\"uniform\", \"distance\"]\n",
    "              ,\"leaf_size\": list(np.arange(2,21,2))}\n",
    "\n",
    "clf_knn = KNeighborsClassifier()\n",
    "clf_knn = GridSearchCV(clf_knn, param_grid, cv=5, scoring='accuracy')\n",
    "clf_knn.fit(X[random_index], y[random_index])\n",
    "print(clf_knn.best_params_)"
   ]
  },
  {
   "cell_type": "code",
   "execution_count": 42,
   "metadata": {},
   "outputs": [],
   "source": [
    "from imblearn.over_sampling import SMOTE\n",
    "\n",
    "sm = SMOTE(random_state=123)\n",
    "X_train_res, y_train_res = sm.fit_resample(X_train, y_train)"
   ]
  },
  {
   "cell_type": "code",
   "execution_count": 43,
   "metadata": {},
   "outputs": [
    {
     "name": "stdout",
     "output_type": "stream",
     "text": [
      "After OverSampling, counts of label '1': 70608\n",
      "After OverSampling, counts of label '0': 70608\n"
     ]
    }
   ],
   "source": [
    "print(\"After OverSampling, counts of label '1': {}\".format(sum(y_train_res==1)))\n",
    "print(\"After OverSampling, counts of label '0': {}\".format(sum(y_train_res==0)))"
   ]
  },
  {
   "cell_type": "code",
   "execution_count": 44,
   "metadata": {},
   "outputs": [
    {
     "name": "stdout",
     "output_type": "stream",
     "text": [
      " Train-Test Split(80-20) accuracy score: 0.6394028500339289\n",
      " Precision score: 0.3266633316658329\n",
      " Recall score: 0.724589436307146\n",
      " F1 score: 0.45031377146403695\n",
      " Accuracy of positive class: 0.724589436307146\n",
      " Accuracy of negative class: 0.6175919086311722\n"
     ]
    }
   ],
   "source": [
    "# Perform further validation metrics on KNN model with parameters calculated from Grid Search\n",
    "knn = clf_knn.best_estimator_\n",
    "knn.fit(X_train_res, y_train_res)\n",
    "y_pred = knn.predict(X_test)\n",
    "\n",
    "# Accuracy score from Train-Test Split(80-20)\n",
    "knn_score = accuracy_score(y_pred, y_test)\n",
    "print(f' Train-Test Split(80-20) accuracy score: {knn_score}')\n",
    "\n",
    "# Precision score\n",
    "knn_precision_score = precision_score(y_test, y_pred)\n",
    "print(f' Precision score: {knn_precision_score}')\n",
    "\n",
    "# Recall score\n",
    "knn_recall_score = recall_score(y_test, y_pred)\n",
    "print(f' Recall score: {knn_recall_score}')\n",
    "\n",
    "# F1 score\n",
    "knn_f1 = f1_score(y_test, y_pred)\n",
    "print(f' F1 score: {knn_f1}')\n",
    "\n",
    "# Confusion matrix: Accuracy of positive/negative class\n",
    "conf_matrix = confusion_matrix(y_test, y_pred)\n",
    "knn_acc_p = conf_matrix[1,1]/(conf_matrix[1,0]+conf_matrix[1,1])\n",
    "knn_acc_n = conf_matrix[0,0]/(conf_matrix[0,0]+conf_matrix[0,1])\n",
    "print(\" Accuracy of positive class:\",knn_acc_p)\n",
    "print(\" Accuracy of negative class:\",knn_acc_n)"
   ]
  },
  {
   "cell_type": "markdown",
   "metadata": {},
   "source": [
    "## 6. Conclusion<a id=\"6\"></a>"
   ]
  },
  {
   "cell_type": "markdown",
   "metadata": {},
   "source": [
    "### Result Summary<a id=\"6-1\"></a>"
   ]
  },
  {
   "cell_type": "code",
   "execution_count": 46,
   "metadata": {},
   "outputs": [
    {
     "data": {
      "text/html": [
       "<div>\n",
       "<style scoped>\n",
       "    .dataframe tbody tr th:only-of-type {\n",
       "        vertical-align: middle;\n",
       "    }\n",
       "\n",
       "    .dataframe tbody tr th {\n",
       "        vertical-align: top;\n",
       "    }\n",
       "\n",
       "    .dataframe thead th {\n",
       "        text-align: right;\n",
       "    }\n",
       "</style>\n",
       "<table border=\"1\" class=\"dataframe\">\n",
       "  <thead>\n",
       "    <tr style=\"text-align: right;\">\n",
       "      <th></th>\n",
       "      <th>Accuracy_Score</th>\n",
       "      <th>Precision_Score</th>\n",
       "      <th>Recall_Score</th>\n",
       "      <th>F1_Score</th>\n",
       "      <th>Accuracy_NoShow</th>\n",
       "      <th>Accuracy_ShowUp</th>\n",
       "    </tr>\n",
       "  </thead>\n",
       "  <tbody>\n",
       "    <tr>\n",
       "      <th>Logistic Regression</th>\n",
       "      <td>0.729</td>\n",
       "      <td>0.421</td>\n",
       "      <td>0.882</td>\n",
       "      <td>0.570</td>\n",
       "      <td>0.882</td>\n",
       "      <td>0.689</td>\n",
       "    </tr>\n",
       "    <tr>\n",
       "      <th>Random Forest</th>\n",
       "      <td>0.737</td>\n",
       "      <td>0.427</td>\n",
       "      <td>0.843</td>\n",
       "      <td>0.567</td>\n",
       "      <td>0.843</td>\n",
       "      <td>0.710</td>\n",
       "    </tr>\n",
       "    <tr>\n",
       "      <th>KNearest Neighbors</th>\n",
       "      <td>0.639</td>\n",
       "      <td>0.327</td>\n",
       "      <td>0.725</td>\n",
       "      <td>0.450</td>\n",
       "      <td>0.725</td>\n",
       "      <td>0.618</td>\n",
       "    </tr>\n",
       "  </tbody>\n",
       "</table>\n",
       "</div>"
      ],
      "text/plain": [
       "                     Accuracy_Score  Precision_Score  Recall_Score  F1_Score  \\\n",
       "Logistic Regression           0.729            0.421         0.882     0.570   \n",
       "Random Forest                 0.737            0.427         0.843     0.567   \n",
       "KNearest Neighbors            0.639            0.327         0.725     0.450   \n",
       "\n",
       "                     Accuracy_NoShow  Accuracy_ShowUp  \n",
       "Logistic Regression            0.882            0.689  \n",
       "Random Forest                  0.843            0.710  \n",
       "KNearest Neighbors             0.725            0.618  "
      ]
     },
     "execution_count": 46,
     "metadata": {},
     "output_type": "execute_result"
    }
   ],
   "source": [
    "# build a dataframe for model results\n",
    "log_result = np.round([log_score, log_precision_score, log_recall_score, log_f1, log_acc_p, log_acc_n],3)\n",
    "rf_result = np.round([rf_score, rf_precision_score, rf_recall_score, rf_f1, rf_acc_p, rf_acc_n],3)\n",
    "knn_result = np.round([knn_score, knn_precision_score, knn_recall_score, knn_f1, knn_acc_p, knn_acc_n],3)\n",
    "\n",
    "ml_results = pd.DataFrame([log_result, rf_result,  knn_result], \n",
    "                          columns=['Accuracy_Score', 'Precision_Score', 'Recall_Score', 'F1_Score', 'Accuracy_NoShow', 'Accuracy_ShowUp'],\n",
    "                          index=['Logistic Regression', 'Random Forest',  'KNearest Neighbors'])\n",
    "\n",
    "ml_results"
   ]
  },
  {
   "cell_type": "markdown",
   "metadata": {},
   "source": [
    "### Features Importance<a id=\"6-2\"></a>"
   ]
  },
  {
   "cell_type": "code",
   "execution_count": 47,
   "metadata": {},
   "outputs": [
    {
     "data": {
      "image/png": "[encoded data removed]",
      "text/plain": [
       "<Figure size 720x360 with 1 Axes>"
      ]
     },
     "metadata": {},
     "output_type": "display_data"
    }
   ],
   "source": [
    "# features importance from random forest model\n",
    "features_name = ['If_Credit_Patient', 'Gender', \"Age\", 'Scholarship', 'Hipertension', 'Diabetes', 'Handcap', \"Neighbourhood\", \"ScheduledDay_Month\", \"Awaiting_Days\", \"If_0Await\", \"If_ScheduledMonth56\"]\n",
    "\n",
    "features_importance = pd.DataFrame([features_name, list(rf.feature_importances_)], index=['Feature', 'Importance']).T\n",
    "features_importance = features_importance.sort_values(by=['Importance'], ascending=False)\n",
    "\n",
    "plt.figure(figsize=(10,5))\n",
    "sns.barplot(x=\"Feature\", y=\"Importance\", data=features_importance, palette=\"Blues_d\")\n",
    "plt.xticks(rotation=90)\n",
    "plt.title(\"Rank of Features Importance\")\n",
    "plt.xlabel('Features')\n",
    "plt.ylabel(\"Importance\")\n",
    "plt.show()"
   ]
  },
  {
   "cell_type": "markdown",
   "metadata": {},
   "source": [
    "According to the actual case situation, we hope that the hospital can accurately identify the patients who cannot come in order to allocate resources reasonably, but not allow insufficient resources to occur.Therefore, a high Precision score of positive class is required to accurately identify patients that do not appear, and a high Accuracy of negative class is required to ensure that the hospital has sufficient resources.\n",
    "\n",
    "Combing the above and accuracy,the random forest with the best perfroming is selected as the final model. The model can predict patient missed appointments with an accuracy rate of 73.7%, thereby helping the hospital to allocate resources rationally."
   ]
  }
 ],
 "metadata": {
  "kernelspec": {
   "display_name": "Python 3",
   "language": "python",
   "name": "python3"
  },
  "language_info": {
   "codemirror_mode": {
    "name": "ipython",
    "version": 3
   },
   "file_extension": ".py",
   "mimetype": "text/x-python",
   "name": "python",
   "nbconvert_exporter": "python",
   "pygments_lexer": "ipython3",
   "version": "3.7.6"
  }
 },
 "nbformat": 4,
 "nbformat_minor": 2
}
